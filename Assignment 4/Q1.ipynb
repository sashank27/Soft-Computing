{
 "cells": [
  {
   "cell_type": "markdown",
   "metadata": {},
   "source": [
    "# Newton's Method on Marks Data"
   ]
  },
  {
   "cell_type": "markdown",
   "metadata": {},
   "source": [
    "### Importing Libraries and Data"
   ]
  },
  {
   "cell_type": "code",
   "execution_count": 1,
   "metadata": {},
   "outputs": [],
   "source": [
    "import numpy as np\n",
    "import matplotlib.pyplot as plt\n",
    "import pandas as pd\n",
    "from sklearn.model_selection import train_test_split\n",
    "from sklearn.utils import shuffle\n",
    "from sklearn.metrics import confusion_matrix\n",
    "import seaborn as sns"
   ]
  },
  {
   "cell_type": "code",
   "execution_count": 2,
   "metadata": {},
   "outputs": [
    {
     "data": {
      "text/html": [
       "<div>\n",
       "<style scoped>\n",
       "    .dataframe tbody tr th:only-of-type {\n",
       "        vertical-align: middle;\n",
       "    }\n",
       "\n",
       "    .dataframe tbody tr th {\n",
       "        vertical-align: top;\n",
       "    }\n",
       "\n",
       "    .dataframe thead th {\n",
       "        text-align: right;\n",
       "    }\n",
       "</style>\n",
       "<table border=\"1\" class=\"dataframe\">\n",
       "  <thead>\n",
       "    <tr style=\"text-align: right;\">\n",
       "      <th></th>\n",
       "      <th>marks1</th>\n",
       "      <th>marks2</th>\n",
       "      <th>selected</th>\n",
       "    </tr>\n",
       "  </thead>\n",
       "  <tbody>\n",
       "    <tr>\n",
       "      <th>90</th>\n",
       "      <td>52.348004</td>\n",
       "      <td>60.769505</td>\n",
       "      <td>0</td>\n",
       "    </tr>\n",
       "    <tr>\n",
       "      <th>41</th>\n",
       "      <td>83.902394</td>\n",
       "      <td>56.308046</td>\n",
       "      <td>1</td>\n",
       "    </tr>\n",
       "    <tr>\n",
       "      <th>7</th>\n",
       "      <td>61.106665</td>\n",
       "      <td>96.511426</td>\n",
       "      <td>1</td>\n",
       "    </tr>\n",
       "    <tr>\n",
       "      <th>50</th>\n",
       "      <td>91.564975</td>\n",
       "      <td>88.696293</td>\n",
       "      <td>1</td>\n",
       "    </tr>\n",
       "    <tr>\n",
       "      <th>98</th>\n",
       "      <td>99.315009</td>\n",
       "      <td>68.775409</td>\n",
       "      <td>1</td>\n",
       "    </tr>\n",
       "  </tbody>\n",
       "</table>\n",
       "</div>"
      ],
      "text/plain": [
       "       marks1     marks2  selected\n",
       "90  52.348004  60.769505         0\n",
       "41  83.902394  56.308046         1\n",
       "7   61.106665  96.511426         1\n",
       "50  91.564975  88.696293         1\n",
       "98  99.315009  68.775409         1"
      ]
     },
     "execution_count": 2,
     "metadata": {},
     "output_type": "execute_result"
    }
   ],
   "source": [
    "df = pd.read_csv('marks.csv', index_col=0)\n",
    "df = shuffle(df)\n",
    "df.head()"
   ]
  },
  {
   "cell_type": "code",
   "execution_count": 3,
   "metadata": {},
   "outputs": [
    {
     "name": "stdout",
     "output_type": "stream",
     "text": [
      "<class 'pandas.core.frame.DataFrame'>\n",
      "Int64Index: 100 entries, 90 to 87\n",
      "Data columns (total 3 columns):\n",
      "marks1      100 non-null float64\n",
      "marks2      100 non-null float64\n",
      "selected    100 non-null int64\n",
      "dtypes: float64(2), int64(1)\n",
      "memory usage: 3.1 KB\n"
     ]
    }
   ],
   "source": [
    "df.shape\n",
    "df.info()"
   ]
  },
  {
   "cell_type": "code",
   "execution_count": 4,
   "metadata": {},
   "outputs": [],
   "source": [
    "Y = df['selected']\n",
    "X = df.drop(['selected'],axis=1)"
   ]
  },
  {
   "cell_type": "code",
   "execution_count": 5,
   "metadata": {},
   "outputs": [
    {
     "name": "stdout",
     "output_type": "stream",
     "text": [
      "(100, 2)\n",
      "(100,)\n"
     ]
    }
   ],
   "source": [
    "print(X.shape)\n",
    "print(Y.shape)"
   ]
  },
  {
   "cell_type": "markdown",
   "metadata": {},
   "source": [
    "### Data Preprocessing"
   ]
  },
  {
   "cell_type": "code",
   "execution_count": 6,
   "metadata": {},
   "outputs": [
    {
     "name": "stdout",
     "output_type": "stream",
     "text": [
      "(100, 1)\n",
      "(100, 3)\n",
      "[[ 1.         -0.71756088 -0.27274077]\n",
      " [ 1.          0.94912851 -0.50839314]\n",
      " [ 1.         -0.25493217  1.61513221]\n",
      " [ 1.          1.35386276  1.2023402 ]\n",
      " [ 1.          1.76321626  0.15012767]]\n"
     ]
    }
   ],
   "source": [
    "Y = (np.array(Y)).reshape(Y.shape[0],1)\n",
    "print(Y.shape)\n",
    "X = np.array(X)\n",
    "\n",
    "#Normalising Inputs(2D input)\n",
    "def normalise(inp):\n",
    "    return np.array((inp-inp.mean())/inp.std())\n",
    "X = normalise(X)\n",
    "\n",
    "X = np.hstack((np.ones((X.shape[0],1)),X))\n",
    "print(X.shape)\n",
    "print(X[:5])"
   ]
  },
  {
   "cell_type": "code",
   "execution_count": 7,
   "metadata": {},
   "outputs": [
    {
     "data": {
      "image/png": "[encoded data removed]",
      "text/plain": [
       "<Figure size 432x288 with 1 Axes>"
      ]
     },
     "metadata": {
      "needs_background": "light"
     },
     "output_type": "display_data"
    }
   ],
   "source": [
    "for i in range(X.shape[0]):\n",
    "    if Y[i]==1:\n",
    "        plt.plot(X[i,1],X[i,2],'rx')\n",
    "    else:\n",
    "        plt.plot(X[i,1],X[i,2],'bx')\n",
    "plt.show()"
   ]
  },
  {
   "cell_type": "code",
   "execution_count": 8,
   "metadata": {},
   "outputs": [
    {
     "name": "stdout",
     "output_type": "stream",
     "text": [
      "(70, 3) (70, 1)\n",
      "(30, 3) (30, 1)\n"
     ]
    }
   ],
   "source": [
    "# Splitting data in train and test sets\n",
    "X_train, X_test, y_train, y_test = train_test_split(X, Y, test_size=0.3)\n",
    "print(X_train.shape, y_train.shape)\n",
    "print(X_test.shape, y_test.shape)"
   ]
  },
  {
   "cell_type": "markdown",
   "metadata": {},
   "source": [
    "### Defining functions"
   ]
  },
  {
   "cell_type": "code",
   "execution_count": 9,
   "metadata": {},
   "outputs": [],
   "source": [
    "def sigmoid(x) :\n",
    "    return 1.0 / (1.0 + np.exp(-x))"
   ]
  },
  {
   "cell_type": "code",
   "execution_count": 10,
   "metadata": {},
   "outputs": [],
   "source": [
    "# Cost Function with Regularization\n",
    "def cost(X, Y, theta, _lambda=0.1):\n",
    "    m = len(Y)\n",
    "    h = sigmoid(X.dot(theta))\n",
    "    reg = (_lambda/(2 * m)) * np.sum(theta**2)\n",
    "    return (1 / m) * (-Y.T.dot(np.log(h)) - (1 - Y).T.dot(np.log(1 - h))) + reg"
   ]
  },
  {
   "cell_type": "code",
   "execution_count": 11,
   "metadata": {},
   "outputs": [],
   "source": [
    "# Regularized gradient function\n",
    "def gradient(X, Y, theta, _lambda = 0.1):\n",
    "    m, n = X.shape\n",
    "    h = sigmoid(X.dot(theta))\n",
    "    reg = _lambda * theta /m\n",
    "    return ((1 / m) * X.T.dot(h - Y)) + reg"
   ]
  },
  {
   "cell_type": "code",
   "execution_count": 12,
   "metadata": {},
   "outputs": [],
   "source": [
    "# Regularised Hessian function\n",
    "# Hessian = (X.T)DX\n",
    "def hessian(X, Y, theta, _lambda=0.1):\n",
    "    D = np.zeros((X.shape[0],X.shape[0]))\n",
    "    for i in range(X.shape[0]):\n",
    "        D[i][i] = sigmoid(X[i].dot(theta)) * (1 - sigmoid(X[i].dot(theta)))\n",
    "    h1 = np.dot(np.dot(np.transpose(X), D), X)\n",
    "    \n",
    "    h2 = np.zeros((X.shape[1],X.shape[1]))\n",
    "    for i in range(1, X.shape[1]) :\n",
    "        h2[i][i] = _lambda\n",
    "    return h1 + h2    "
   ]
  },
  {
   "cell_type": "code",
   "execution_count": 13,
   "metadata": {},
   "outputs": [],
   "source": [
    "# Training using newton's method\n",
    "def train(X, Y, iterations = 100, _lambda=0.1):\n",
    "    costs = np.empty([iterations])\n",
    "    i = 0\n",
    "    m = X.shape[0]\n",
    "    theta = np.random.randn(X.shape[1],1)\n",
    "\n",
    "    while i < iterations:\n",
    "        costs[i] = cost(X, Y, theta, _lambda)\n",
    "        \n",
    "        g = gradient(X,Y,theta,_lambda)\n",
    "        hess = hessian(X,Y,theta,_lambda)\n",
    "        h_inv = np.linalg.inv(hess)\n",
    "        \n",
    "        theta = theta - np.dot(h_inv,g)\n",
    "        i = i + 1\n",
    "    return theta, costs"
   ]
  },
  {
   "cell_type": "code",
   "execution_count": 14,
   "metadata": {},
   "outputs": [],
   "source": [
    "def test(X, Y, theta):\n",
    "    pred = sigmoid(X.dot(theta))\n",
    "    counts = 0\n",
    "    a, b = X.shape\n",
    "    Y_pred = np.empty([Y.shape[0]])\n",
    "    for i in range(a):\n",
    "        if pred[i] > 0.5:\n",
    "            Y_pred[i] = 1\n",
    "            if int(Y[i]) == 1:\n",
    "                counts = counts + 1\n",
    "        else:\n",
    "            Y_pred[i] = 0\n",
    "            if int(Y[i]) == 0 :\n",
    "                counts = counts + 1\n",
    "        \n",
    "    print('Accuracy:',counts/a * 100)\n",
    "    \n",
    "    Y_pred = Y_pred.reshape(Y.shape[0],1)\n",
    "    return Y_pred"
   ]
  },
  {
   "cell_type": "markdown",
   "metadata": {},
   "source": [
    "### Training with Regularization (lambda = 0.1)"
   ]
  },
  {
   "cell_type": "code",
   "execution_count": 15,
   "metadata": {},
   "outputs": [
    {
     "name": "stdout",
     "output_type": "stream",
     "text": [
      "[[0.63292359]\n",
      " [1.71286238]\n",
      " [1.14186915]]\n"
     ]
    }
   ],
   "source": [
    "theta, costs = train(X_train, y_train, _lambda=0.1)\n",
    "print(theta)"
   ]
  },
  {
   "cell_type": "code",
   "execution_count": 16,
   "metadata": {},
   "outputs": [
    {
     "name": "stdout",
     "output_type": "stream",
     "text": [
      "Accuracy: 96.66666666666667\n"
     ]
    }
   ],
   "source": [
    "y_pred_test = test(X_test,y_test,theta)"
   ]
  },
  {
   "cell_type": "code",
   "execution_count": 17,
   "metadata": {},
   "outputs": [
    {
     "data": {
      "text/plain": [
       "[<matplotlib.lines.Line2D at 0x7fd32fed4ac8>]"
      ]
     },
     "execution_count": 17,
     "metadata": {},
     "output_type": "execute_result"
    },
    {
     "data": {
      "image/png": "[encoded data removed]",
      "text/plain": [
       "<Figure size 432x288 with 1 Axes>"
      ]
     },
     "metadata": {
      "needs_background": "light"
     },
     "output_type": "display_data"
    }
   ],
   "source": [
    "plt.plot(range(len(costs)),costs)"
   ]
  },
  {
   "cell_type": "code",
   "execution_count": 18,
   "metadata": {},
   "outputs": [
    {
     "name": "stdout",
     "output_type": "stream",
     "text": [
      "Accuracy: 88.57142857142857\n"
     ]
    }
   ],
   "source": [
    "y_pred_train = test(X_train,y_train,theta)"
   ]
  },
  {
   "cell_type": "code",
   "execution_count": 19,
   "metadata": {},
   "outputs": [
    {
     "data": {
      "image/png": "[encoded data removed]",
      "text/plain": [
       "<Figure size 432x288 with 1 Axes>"
      ]
     },
     "metadata": {
      "needs_background": "light"
     },
     "output_type": "display_data"
    }
   ],
   "source": [
    "# plotting decision boundary\n",
    "\n",
    "for i in range(X.shape[0]):\n",
    "    if Y[i]==1:\n",
    "        plt.plot(X[i,1],X[i,2],'rx')\n",
    "    else:\n",
    "        plt.plot(X[i,1],X[i,2],'bx')\n",
    "        \n",
    "decision_x_vals = X[: , 1]\n",
    "decision_y_vals = -1.0 * ((theta[0] + theta[1] * decision_x_vals) / (theta[2]))\n",
    "\n",
    "plt.plot(decision_x_vals, decision_y_vals, 'k')\n",
    "plt.show()"
   ]
  },
  {
   "cell_type": "code",
   "execution_count": 23,
   "metadata": {},
   "outputs": [],
   "source": [
    "# Function to plot Confusion Matrix\n",
    "def plot_confusion_matrix(Y_pred,Y):\n",
    "    cm = confusion_matrix(Y_pred, Y, labels=None, sample_weight=None)\n",
    "    \n",
    "    df_cm = pd.DataFrame(cm, range(2), range(2))\n",
    "    sns.set(font_scale = 1.4) #for label size\n",
    "    ax = sns.heatmap(df_cm, annot = True, annot_kws = {\"size\": 16})\n",
    "    ax.set_title(\"Confusion Matrix\")\n",
    "    ax.set(xlabel = 'Predicted Class', ylabel = 'Actual Class')\n",
    "    plt.show()\n",
    "    return cm"
   ]
  },
  {
   "cell_type": "code",
   "execution_count": 24,
   "metadata": {},
   "outputs": [
    {
     "name": "stdout",
     "output_type": "stream",
     "text": [
      "Accuracy: 90.0\n"
     ]
    },
    {
     "data": {
      "image/png": "[encoded data removed]",
      "text/plain": [
       "<Figure size 432x288 with 2 Axes>"
      ]
     },
     "metadata": {},
     "output_type": "display_data"
    }
   ],
   "source": [
    "# Confusion matrix on complete data\n",
    "cm = plot_confusion_matrix(test(X,Y,theta),Y)"
   ]
  },
  {
   "cell_type": "code",
   "execution_count": 25,
   "metadata": {},
   "outputs": [
    {
     "name": "stdout",
     "output_type": "stream",
     "text": [
      "Precision: 98.33333333333333\n",
      "Recall: 86.76470588235294\n",
      "F1 score: 0.9218749999999999\n"
     ]
    }
   ],
   "source": [
    "# Calcuating precision, recall and F1 score\n",
    "TN = cm[0][0]\n",
    "FP = cm[0][1]\n",
    "FN = cm[1][0]\n",
    "TP = cm[1][1]\n",
    "\n",
    "precision = TP / (TP + FP)\n",
    "recall = TP / (TP + FN)\n",
    "print(\"Precision:\", precision * 100)\n",
    "print(\"Recall:\", recall * 100)\n",
    "\n",
    "F1_score = (2 * precision * recall) / (precision + recall)\n",
    "print(\"F1 score:\", F1_score)"
   ]
  }
 ],
 "metadata": {
  "kernelspec": {
   "display_name": "Python 3",
   "language": "python",
   "name": "python3"
  },
  "language_info": {
   "codemirror_mode": {
    "name": "ipython",
    "version": 3
   },
   "file_extension": ".py",
   "mimetype": "text/x-python",
   "name": "python",
   "nbconvert_exporter": "python",
   "pygments_lexer": "ipython3",
   "version": "3.6.7"
  }
 },
 "nbformat": 4,
 "nbformat_minor": 2
}
