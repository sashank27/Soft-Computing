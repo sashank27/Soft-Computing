{
 "cells": [
  {
   "cell_type": "markdown",
   "metadata": {},
   "source": [
    "## House Price Prediction using Linear Regression"
   ]
  },
  {
   "cell_type": "markdown",
   "metadata": {},
   "source": [
    "#### Required Libraries"
   ]
  },
  {
   "cell_type": "code",
   "execution_count": 1,
   "metadata": {},
   "outputs": [],
   "source": [
    "import numpy\n",
    "import pandas as pd\n",
    "import matplotlib.pyplot as plt\n",
    "import math\n",
    "import csv\n",
    "from numpy.linalg import inv"
   ]
  },
  {
   "cell_type": "markdown",
   "metadata": {},
   "source": [
    "#### Importing Data"
   ]
  },
  {
   "cell_type": "code",
   "execution_count": 2,
   "metadata": {},
   "outputs": [
    {
     "data": {
      "text/html": [
       "<div>\n",
       "<style scoped>\n",
       "    .dataframe tbody tr th:only-of-type {\n",
       "        vertical-align: middle;\n",
       "    }\n",
       "\n",
       "    .dataframe tbody tr th {\n",
       "        vertical-align: top;\n",
       "    }\n",
       "\n",
       "    .dataframe thead th {\n",
       "        text-align: right;\n",
       "    }\n",
       "</style>\n",
       "<table border=\"1\" class=\"dataframe\">\n",
       "  <thead>\n",
       "    <tr style=\"text-align: right;\">\n",
       "      <th></th>\n",
       "      <th>price</th>\n",
       "      <th>lotsize</th>\n",
       "      <th>bedrooms</th>\n",
       "      <th>bathrms</th>\n",
       "      <th>stories</th>\n",
       "      <th>driveway</th>\n",
       "      <th>recroom</th>\n",
       "      <th>fullbase</th>\n",
       "      <th>gashw</th>\n",
       "      <th>airco</th>\n",
       "      <th>garagepl</th>\n",
       "      <th>prefarea</th>\n",
       "    </tr>\n",
       "  </thead>\n",
       "  <tbody>\n",
       "    <tr>\n",
       "      <th>1</th>\n",
       "      <td>42000.0</td>\n",
       "      <td>5850</td>\n",
       "      <td>3</td>\n",
       "      <td>1</td>\n",
       "      <td>2</td>\n",
       "      <td>yes</td>\n",
       "      <td>no</td>\n",
       "      <td>yes</td>\n",
       "      <td>no</td>\n",
       "      <td>no</td>\n",
       "      <td>1</td>\n",
       "      <td>no</td>\n",
       "    </tr>\n",
       "    <tr>\n",
       "      <th>2</th>\n",
       "      <td>38500.0</td>\n",
       "      <td>4000</td>\n",
       "      <td>2</td>\n",
       "      <td>1</td>\n",
       "      <td>1</td>\n",
       "      <td>yes</td>\n",
       "      <td>no</td>\n",
       "      <td>no</td>\n",
       "      <td>no</td>\n",
       "      <td>no</td>\n",
       "      <td>0</td>\n",
       "      <td>no</td>\n",
       "    </tr>\n",
       "    <tr>\n",
       "      <th>3</th>\n",
       "      <td>49500.0</td>\n",
       "      <td>3060</td>\n",
       "      <td>3</td>\n",
       "      <td>1</td>\n",
       "      <td>1</td>\n",
       "      <td>yes</td>\n",
       "      <td>no</td>\n",
       "      <td>no</td>\n",
       "      <td>no</td>\n",
       "      <td>no</td>\n",
       "      <td>0</td>\n",
       "      <td>no</td>\n",
       "    </tr>\n",
       "    <tr>\n",
       "      <th>4</th>\n",
       "      <td>60500.0</td>\n",
       "      <td>6650</td>\n",
       "      <td>3</td>\n",
       "      <td>1</td>\n",
       "      <td>2</td>\n",
       "      <td>yes</td>\n",
       "      <td>yes</td>\n",
       "      <td>no</td>\n",
       "      <td>no</td>\n",
       "      <td>no</td>\n",
       "      <td>0</td>\n",
       "      <td>no</td>\n",
       "    </tr>\n",
       "    <tr>\n",
       "      <th>5</th>\n",
       "      <td>61000.0</td>\n",
       "      <td>6360</td>\n",
       "      <td>2</td>\n",
       "      <td>1</td>\n",
       "      <td>1</td>\n",
       "      <td>yes</td>\n",
       "      <td>no</td>\n",
       "      <td>no</td>\n",
       "      <td>no</td>\n",
       "      <td>no</td>\n",
       "      <td>0</td>\n",
       "      <td>no</td>\n",
       "    </tr>\n",
       "  </tbody>\n",
       "</table>\n",
       "</div>"
      ],
      "text/plain": [
       "     price  lotsize  bedrooms  bathrms  stories driveway recroom fullbase  \\\n",
       "1  42000.0     5850         3        1        2      yes      no      yes   \n",
       "2  38500.0     4000         2        1        1      yes      no       no   \n",
       "3  49500.0     3060         3        1        1      yes      no       no   \n",
       "4  60500.0     6650         3        1        2      yes     yes       no   \n",
       "5  61000.0     6360         2        1        1      yes      no       no   \n",
       "\n",
       "  gashw airco  garagepl prefarea  \n",
       "1    no    no         1       no  \n",
       "2    no    no         0       no  \n",
       "3    no    no         0       no  \n",
       "4    no    no         0       no  \n",
       "5    no    no         0       no  "
      ]
     },
     "execution_count": 2,
     "metadata": {},
     "output_type": "execute_result"
    }
   ],
   "source": [
    "inputData = pd.read_csv('Housing Price data sets.csv', index_col=0)\n",
    "inputData[:5]"
   ]
  },
  {
   "cell_type": "markdown",
   "metadata": {},
   "source": [
    "#### Organizing the data"
   ]
  },
  {
   "cell_type": "code",
   "execution_count": 3,
   "metadata": {},
   "outputs": [],
   "source": [
    "inputData.driveway.replace(to_replace=['no', 'yes'], value=[0, 1], inplace=True)\n",
    "inputData.recroom.replace(to_replace=['no','yes'], value=[0,1], inplace=True)\n",
    "inputData.fullbase.replace(to_replace=['no','yes'], value=[0,1], inplace=True)\n",
    "inputData.gashw.replace(to_replace=['no','yes'], value=[0,1], inplace=True)\n",
    "inputData.airco.replace(to_replace=['no','yes'], value=[0,1], inplace=True)\n",
    "inputData.prefarea.replace(to_replace=['no','yes'], value=[0,1], inplace=True)\n",
    "x = inputData.drop(['price'], axis = 1)\n",
    "x = numpy.array(x)"
   ]
  },
  {
   "cell_type": "code",
   "execution_count": 4,
   "metadata": {},
   "outputs": [],
   "source": [
    "y = inputData['price']\n",
    "y = numpy.array(y)"
   ]
  },
  {
   "cell_type": "code",
   "execution_count": 5,
   "metadata": {},
   "outputs": [
    {
     "data": {
      "text/plain": [
       "array([[5850,    3,    1,    2,    1,    0,    1,    0,    0,    1,    0],\n",
       "       [4000,    2,    1,    1,    1,    0,    0,    0,    0,    0,    0],\n",
       "       [3060,    3,    1,    1,    1,    0,    0,    0,    0,    0,    0],\n",
       "       [6650,    3,    1,    2,    1,    1,    0,    0,    0,    0,    0],\n",
       "       [6360,    2,    1,    1,    1,    0,    0,    0,    0,    0,    0]])"
      ]
     },
     "execution_count": 5,
     "metadata": {},
     "output_type": "execute_result"
    }
   ],
   "source": [
    "x[:5]"
   ]
  },
  {
   "cell_type": "code",
   "execution_count": 6,
   "metadata": {},
   "outputs": [
    {
     "data": {
      "text/plain": [
       "array([42000., 38500., 49500., 60500., 61000.])"
      ]
     },
     "execution_count": 6,
     "metadata": {},
     "output_type": "execute_result"
    }
   ],
   "source": [
    "y[:5]"
   ]
  },
  {
   "cell_type": "code",
   "execution_count": 7,
   "metadata": {},
   "outputs": [
    {
     "name": "stdout",
     "output_type": "stream",
     "text": [
      "(546, 1)\n",
      "(546, 11)\n"
     ]
    }
   ],
   "source": [
    "y = y.reshape(546, 1)\n",
    "print(y.shape)\n",
    "print(x.shape)"
   ]
  },
  {
   "cell_type": "markdown",
   "metadata": {},
   "source": [
    "#### Cost Function"
   ]
  },
  {
   "cell_type": "code",
   "execution_count": 8,
   "metadata": {},
   "outputs": [],
   "source": [
    "def cost(x, y, w):\n",
    "    m = x.shape[0]\n",
    "    ans = (numpy.sum(numpy.square(numpy.matmul(x, w) - y)))/(2*m)\n",
    "    return ans\n",
    "def costLamb(X, Y, theta, lambdaVar):\n",
    "    m = X.shape[0]\n",
    "    a = (1/(2*m))*(lambdaVar * numpy.sum(theta ** 2))\n",
    "    return (1/(2*m))*(numpy.sum(numpy.square(numpy.matmul(X, theta) - Y))) + a"
   ]
  },
  {
   "cell_type": "code",
   "execution_count": 9,
   "metadata": {},
   "outputs": [],
   "source": [
    "def calcdj(x, y, w, lamb):\n",
    "    m = x.shape[0]\n",
    "    ans = (numpy.matmul(x.transpose(), (numpy.matmul(x, w) - y)))/(m) + numpy.sum(lamb) * (1/m)\n",
    "    return ans"
   ]
  },
  {
   "cell_type": "code",
   "execution_count": 10,
   "metadata": {},
   "outputs": [
    {
     "name": "stdout",
     "output_type": "stream",
     "text": [
      "(546, 12)\n"
     ]
    }
   ],
   "source": [
    "x = numpy.c_[numpy.ones(x.shape[0]),numpy.array(x)]\n",
    "print(x.shape)"
   ]
  },
  {
   "cell_type": "code",
   "execution_count": 11,
   "metadata": {},
   "outputs": [],
   "source": [
    "def normalise(inp):\n",
    "    return numpy.array((inp-inp.mean())/inp.std())"
   ]
  },
  {
   "cell_type": "code",
   "execution_count": 12,
   "metadata": {},
   "outputs": [],
   "source": [
    "x = x[:, 1:]\n",
    "normx = normalise(x)\n",
    "normy = normalise(y)"
   ]
  },
  {
   "cell_type": "code",
   "execution_count": 13,
   "metadata": {},
   "outputs": [],
   "source": [
    "normx = numpy.c_[numpy.ones(normx.shape[0]),numpy.array(normx)]"
   ]
  },
  {
   "cell_type": "code",
   "execution_count": 14,
   "metadata": {},
   "outputs": [
    {
     "data": {
      "text/plain": [
       "array([[ 1.        ,  3.32566332, -0.28800578, -0.28924186, -0.28862382,\n",
       "        -0.28924186, -0.2898599 , -0.28924186, -0.2898599 , -0.2898599 ,\n",
       "        -0.28924186, -0.2898599 ],\n",
       "       [ 1.        ,  2.18229273, -0.28862382, -0.28924186, -0.28924186,\n",
       "        -0.28924186, -0.2898599 , -0.2898599 , -0.2898599 , -0.2898599 ,\n",
       "        -0.2898599 , -0.2898599 ],\n",
       "       [ 1.        ,  1.60133687, -0.28800578, -0.28924186, -0.28924186,\n",
       "        -0.28924186, -0.2898599 , -0.2898599 , -0.2898599 , -0.2898599 ,\n",
       "        -0.2898599 , -0.2898599 ],\n",
       "       [ 1.        ,  3.82009385, -0.28800578, -0.28924186, -0.28862382,\n",
       "        -0.28924186, -0.28924186, -0.2898599 , -0.2898599 , -0.2898599 ,\n",
       "        -0.2898599 , -0.2898599 ],\n",
       "       [ 1.        ,  3.64086278, -0.28862382, -0.28924186, -0.28924186,\n",
       "        -0.28924186, -0.2898599 , -0.2898599 , -0.2898599 , -0.2898599 ,\n",
       "        -0.2898599 , -0.2898599 ]])"
      ]
     },
     "execution_count": 14,
     "metadata": {},
     "output_type": "execute_result"
    }
   ],
   "source": [
    "normx[:5]"
   ]
  },
  {
   "cell_type": "markdown",
   "metadata": {},
   "source": [
    "#### Using Gradient Descent Equation"
   ]
  },
  {
   "cell_type": "code",
   "execution_count": 15,
   "metadata": {},
   "outputs": [
    {
     "name": "stdout",
     "output_type": "stream",
     "text": [
      "[[ 0.19942352]\n",
      " [ 0.34096206]\n",
      " [ 0.2818517 ]\n",
      " [ 0.51851591]\n",
      " [-0.92614748]\n",
      " [ 0.31006581]\n",
      " [-2.00979747]\n",
      " [-0.45905933]\n",
      " [-0.1423099 ]\n",
      " [-0.64562808]\n",
      " [ 0.02351734]\n",
      " [-0.36176653]]\n"
     ]
    }
   ],
   "source": [
    "normW = numpy.random.randn(12, 1)\n",
    "normW = numpy.array(normW)\n",
    "print(normW)"
   ]
  },
  {
   "cell_type": "code",
   "execution_count": 16,
   "metadata": {},
   "outputs": [],
   "source": [
    "totalRep = 10000\n",
    "curRep= 0\n",
    "learningRate = 0.01\n",
    "costs = numpy.empty([totalRep])\n",
    "while curRep < totalRep:\n",
    "    curCost = costLamb(normx, normy, normW, 1)\n",
    "    dj = calcdj(normx, normy, normW, 1)\n",
    "    normW = normW - learningRate * dj\n",
    "    costs[curRep] = curCost\n",
    "    curRep = curRep + 1"
   ]
  },
  {
   "cell_type": "code",
   "execution_count": 17,
   "metadata": {},
   "outputs": [
    {
     "name": "stdout",
     "output_type": "stream",
     "text": [
      "[[-1.42856559]\n",
      " [ 0.39632641]\n",
      " [ 0.52805514]\n",
      " [ 0.76601263]\n",
      " [-0.67177772]\n",
      " [ 0.54821729]\n",
      " [-1.76993999]\n",
      " [-0.21893342]\n",
      " [ 0.09455805]\n",
      " [-0.40042658]\n",
      " [ 0.26948845]\n",
      " [-0.12079831]]\n"
     ]
    }
   ],
   "source": [
    "print(normW)"
   ]
  },
  {
   "cell_type": "code",
   "execution_count": 18,
   "metadata": {},
   "outputs": [
    {
     "data": {
      "text/plain": [
       "[<matplotlib.lines.Line2D at 0x7f16a7d27400>]"
      ]
     },
     "execution_count": 18,
     "metadata": {},
     "output_type": "execute_result"
    },
    {
     "data": {
      "image/png": "[encoded data removed]",
      "text/plain": [
       "<Figure size 432x288 with 1 Axes>"
      ]
     },
     "metadata": {},
     "output_type": "display_data"
    }
   ],
   "source": [
    "plt.plot(range(totalRep), costs)"
   ]
  },
  {
   "cell_type": "code",
   "execution_count": 19,
   "metadata": {},
   "outputs": [
    {
     "name": "stdout",
     "output_type": "stream",
     "text": [
      "0.36317156005140366\n"
     ]
    }
   ],
   "source": [
    "print(costLamb(normx, normy, normW, 1))"
   ]
  }
 ],
 "metadata": {
  "kernelspec": {
   "display_name": "Python 3",
   "language": "python",
   "name": "python3"
  },
  "language_info": {
   "codemirror_mode": {
    "name": "ipython",
    "version": 3
   },
   "file_extension": ".py",
   "mimetype": "text/x-python",
   "name": "python",
   "nbconvert_exporter": "python",
   "pygments_lexer": "ipython3",
   "version": "3.6.5"
  }
 },
 "nbformat": 4,
 "nbformat_minor": 2
}
