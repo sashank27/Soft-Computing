{
 "cells": [
  {
   "cell_type": "code",
   "execution_count": 1,
   "metadata": {},
   "outputs": [],
   "source": [
    "import numpy as np\n",
    "import matplotlib.pyplot as plt\n",
    "import pandas as pd\n",
    "import cv2\n",
    "from PIL import Image"
   ]
  },
  {
   "cell_type": "code",
   "execution_count": 2,
   "metadata": {},
   "outputs": [],
   "source": [
    "extract = cv2.imread('images/extract.jpg')"
   ]
  },
  {
   "cell_type": "code",
   "execution_count": 3,
   "metadata": {},
   "outputs": [
    {
     "name": "stdout",
     "output_type": "stream",
     "text": [
      "1276\n",
      "6352\n"
     ]
    }
   ],
   "source": [
    "riverPoints = []\n",
    "nonriverPoints = []\n",
    "\n",
    "for i in range(extract.shape[0]):\n",
    "    for j in range(extract.shape[1]):\n",
    "        if extract[i][j][0] >=240 and extract[i][j][1] >=240 and extract[i][j][2] >=240:\n",
    "            riverPoints.append([i,j])\n",
    "        elif extract[i][j][0] <=3 and extract[i][j][1] <=3 and extract[i][j][2] <= 3:\n",
    "            nonriverPoints.append([i,j])\n",
    "    \n",
    "print(len(riverPoints))\n",
    "print(len(nonriverPoints))"
   ]
  },
  {
   "cell_type": "code",
   "execution_count": 4,
   "metadata": {},
   "outputs": [],
   "source": [
    "def get_data(path):\n",
    "    img = Image.open(path, 'r')\n",
    "    p = np.array(list(img.getdata())).reshape(512,512)\n",
    "    return p\n",
    "\n",
    "pr = get_data('images/1.gif')\n",
    "pg = get_data('images/2.gif')\n",
    "pb = get_data('images/3.gif')\n",
    "pi = get_data('images/4.gif')"
   ]
  },
  {
   "cell_type": "code",
   "execution_count": 5,
   "metadata": {},
   "outputs": [],
   "source": [
    "riverValues = []\n",
    "nonriverValues = []\n",
    "\n",
    "for i in range(50):  # get 50 river point data\n",
    "    x, y = riverPoints[i]\n",
    "    riverValues.append([pr[x][y], pg[x][y], pb[x][y], pi[x][y]])\n",
    "\n",
    "for i in range(100):  # get 100 non-river point data\n",
    "    x, y = nonriverPoints[i]\n",
    "    nonriverValues.append([pr[x][y], pg[x][y], pb[x][y], pi[x][y]])"
   ]
  },
  {
   "cell_type": "code",
   "execution_count": 6,
   "metadata": {},
   "outputs": [
    {
     "name": "stdout",
     "output_type": "stream",
     "text": [
      "(50, 4)\n",
      "(100, 4)\n"
     ]
    }
   ],
   "source": [
    "riverValues = np.array(riverValues)\n",
    "print(riverValues.shape)\n",
    "nonriverValues = np.array(nonriverValues)\n",
    "print(nonriverValues.shape)"
   ]
  },
  {
   "cell_type": "code",
   "execution_count": 7,
   "metadata": {},
   "outputs": [],
   "source": [
    "# Calculate Mean\n",
    "riverMean = np.mean(riverValues, axis = 0)\n",
    "nonriverMean = np.mean(nonriverValues, axis = 0)"
   ]
  },
  {
   "cell_type": "code",
   "execution_count": 8,
   "metadata": {},
   "outputs": [],
   "source": [
    "# Calculate covariance for river and non river class\n",
    "diffRiver = riverValues - riverMean\n",
    "diffNonriver = nonriverValues - nonriverMean\n",
    "\n",
    "covRiver = (float(1) / float(riverValues.shape[0])) * np.dot(diffRiver.T, diffRiver)\n",
    "covNonriver = (float(1) / float(nonriverValues.shape[0])) * np.dot(diffNonriver.T, diffNonriver)"
   ]
  },
  {
   "cell_type": "markdown",
   "metadata": {},
   "source": [
    "#### Creating Test Data"
   ]
  },
  {
   "cell_type": "code",
   "execution_count": 9,
   "metadata": {},
   "outputs": [],
   "source": [
    "data = np.empty(shape=(512,512, 4),dtype='uint8')\n",
    "for i in range(512):\n",
    "    for j in range(512):\n",
    "        data[i][j][0] = pr[i][j]\n",
    "        data[i][j][1] = pg[i][j]\n",
    "        data[i][j][2] = pb[i][j]\n",
    "        data[i][j][3] = pi[i][j]"
   ]
  },
  {
   "cell_type": "code",
   "execution_count": 10,
   "metadata": {},
   "outputs": [],
   "source": [
    "def main(P1,P2):\n",
    "    final_ans = np.zeros((512, 512))\n",
    "    \n",
    "    for i in range(512):\n",
    "        for j in range(512):\n",
    "            modifiedData = data[i][j] - riverMean\n",
    "        \n",
    "            river_class = np.dot(np.dot(modifiedData.T, np.linalg.inv(covRiver)), modifiedData)\n",
    "            river_prediction = (float(1) / ((float(2) * np.pi) ** 2)) * (float(1) / (np.sqrt(np.linalg.det(covRiver)))) * np.exp((float(-0.5)) * river_class)\n",
    "        \n",
    "            modifiedData = data[i][j] - nonriverMean\n",
    "            non_river_class = np.dot(np.dot(np.transpose((modifiedData)), np.linalg.inv(covNonriver)), modifiedData)\n",
    "            non_river_prediction =  (float(1) / ((float(2) * np.pi) ** 2)) * (float(1) / (np.sqrt(np.linalg.det(covNonriver)))) * np.exp((float(-0.5)) * non_river_class)\n",
    "        \n",
    "            if(P1 * river_prediction >= P2 * non_river_prediction) :\n",
    "                final_ans[i][j] = 255\n",
    "            else :\n",
    "                final_ans[i][j] = 0\n",
    "    return final_ans"
   ]
  },
  {
   "cell_type": "code",
   "execution_count": 11,
   "metadata": {},
   "outputs": [],
   "source": [
    "im = Image.fromarray(main(0.7,0.3))\n",
    "im.show()"
   ]
  },
  {
   "cell_type": "code",
   "execution_count": 12,
   "metadata": {},
   "outputs": [],
   "source": [
    "im = Image.fromarray(main(0.5,0.5))\n",
    "im.show()"
   ]
  },
  {
   "cell_type": "code",
   "execution_count": 13,
   "metadata": {},
   "outputs": [],
   "source": [
    "im = Image.fromarray(main(0.3,0.7))\n",
    "im.show()"
   ]
  }
 ],
 "metadata": {
  "kernelspec": {
   "display_name": "Python 3",
   "language": "python",
   "name": "python3"
  },
  "language_info": {
   "codemirror_mode": {
    "name": "ipython",
    "version": 3
   },
   "file_extension": ".py",
   "mimetype": "text/x-python",
   "name": "python",
   "nbconvert_exporter": "python",
   "pygments_lexer": "ipython3",
   "version": "3.6.7"
  }
 },
 "nbformat": 4,
 "nbformat_minor": 2
}
