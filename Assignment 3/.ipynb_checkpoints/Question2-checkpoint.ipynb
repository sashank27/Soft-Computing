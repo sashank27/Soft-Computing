{
 "cells": [
  {
   "cell_type": "code",
   "execution_count": 1,
   "metadata": {},
   "outputs": [],
   "source": [
    "import numpy as np\n",
    "import matplotlib.pyplot as plt\n",
    "import pandas as pd\n",
    "from sklearn.model_selection import train_test_split"
   ]
  },
  {
   "cell_type": "code",
   "execution_count": 2,
   "metadata": {},
   "outputs": [],
   "source": [
    "d = pd.read_csv('marks.csv', index_col = 0)"
   ]
  },
  {
   "cell_type": "code",
   "execution_count": 3,
   "metadata": {},
   "outputs": [
    {
     "data": {
      "text/html": [
       "<div>\n",
       "<style scoped>\n",
       "    .dataframe tbody tr th:only-of-type {\n",
       "        vertical-align: middle;\n",
       "    }\n",
       "\n",
       "    .dataframe tbody tr th {\n",
       "        vertical-align: top;\n",
       "    }\n",
       "\n",
       "    .dataframe thead th {\n",
       "        text-align: right;\n",
       "    }\n",
       "</style>\n",
       "<table border=\"1\" class=\"dataframe\">\n",
       "  <thead>\n",
       "    <tr style=\"text-align: right;\">\n",
       "      <th></th>\n",
       "      <th>marks1</th>\n",
       "      <th>marks2</th>\n",
       "      <th>selected</th>\n",
       "    </tr>\n",
       "  </thead>\n",
       "  <tbody>\n",
       "    <tr>\n",
       "      <th>1</th>\n",
       "      <td>34.623660</td>\n",
       "      <td>78.024693</td>\n",
       "      <td>0</td>\n",
       "    </tr>\n",
       "    <tr>\n",
       "      <th>2</th>\n",
       "      <td>30.286711</td>\n",
       "      <td>43.894998</td>\n",
       "      <td>0</td>\n",
       "    </tr>\n",
       "    <tr>\n",
       "      <th>3</th>\n",
       "      <td>35.847409</td>\n",
       "      <td>72.902198</td>\n",
       "      <td>0</td>\n",
       "    </tr>\n",
       "    <tr>\n",
       "      <th>4</th>\n",
       "      <td>60.182599</td>\n",
       "      <td>86.308552</td>\n",
       "      <td>1</td>\n",
       "    </tr>\n",
       "    <tr>\n",
       "      <th>5</th>\n",
       "      <td>79.032736</td>\n",
       "      <td>75.344376</td>\n",
       "      <td>1</td>\n",
       "    </tr>\n",
       "  </tbody>\n",
       "</table>\n",
       "</div>"
      ],
      "text/plain": [
       "      marks1     marks2  selected\n",
       "1  34.623660  78.024693         0\n",
       "2  30.286711  43.894998         0\n",
       "3  35.847409  72.902198         0\n",
       "4  60.182599  86.308552         1\n",
       "5  79.032736  75.344376         1"
      ]
     },
     "execution_count": 3,
     "metadata": {},
     "output_type": "execute_result"
    }
   ],
   "source": [
    "d.head()"
   ]
  },
  {
   "cell_type": "code",
   "execution_count": 4,
   "metadata": {},
   "outputs": [],
   "source": [
    "X = d.drop(['selected'], axis = 1)"
   ]
  },
  {
   "cell_type": "code",
   "execution_count": 5,
   "metadata": {},
   "outputs": [],
   "source": [
    "Y = d.drop(['marks1', 'marks2'], axis = 1)"
   ]
  },
  {
   "cell_type": "code",
   "execution_count": 6,
   "metadata": {},
   "outputs": [],
   "source": [
    "#Normalising Inputs(2D input)\n",
    "def normalise(inp):\n",
    "    return np.array((inp-inp.mean())/inp.std())\n",
    "# Y = normalise(Y)\n",
    "X = normalise(X)\n",
    "Y = np.array(Y)"
   ]
  },
  {
   "cell_type": "code",
   "execution_count": 7,
   "metadata": {},
   "outputs": [],
   "source": [
    "X = np.c_[np.ones(X.shape[0]),np.array(X)]"
   ]
  },
  {
   "cell_type": "code",
   "execution_count": 8,
   "metadata": {},
   "outputs": [
    {
     "data": {
      "text/plain": [
       "array([[0.],\n",
       "       [0.],\n",
       "       [0.],\n",
       "       [1.],\n",
       "       [1.]])"
      ]
     },
     "execution_count": 8,
     "metadata": {},
     "output_type": "execute_result"
    }
   ],
   "source": [
    "Y = Y * 1.0\n",
    "Y[:5]"
   ]
  },
  {
   "cell_type": "code",
   "execution_count": 9,
   "metadata": {},
   "outputs": [],
   "source": [
    "X_train, X_test, y_train, y_test = train_test_split(X, Y, test_size=0.3)"
   ]
  },
  {
   "cell_type": "code",
   "execution_count": 10,
   "metadata": {},
   "outputs": [
    {
     "name": "stdout",
     "output_type": "stream",
     "text": [
      "(70, 3) (70, 1)\n",
      "(30, 3) (30, 1)\n"
     ]
    }
   ],
   "source": [
    "print(X_train.shape, y_train.shape)\n",
    "print(X_test.shape, y_test.shape)"
   ]
  },
  {
   "cell_type": "code",
   "execution_count": 11,
   "metadata": {},
   "outputs": [],
   "source": [
    "#Logistic Regression\n",
    "\n",
    "def sigmoid(z):\n",
    "    return 1.0 / (1 + np.exp(-z))\n",
    "\n",
    "#Regularized cost function\n",
    "def regCostFunction(theta, X, y, _lambda = 0.01):\n",
    "    m = len(y)\n",
    "    h = sigmoid(X.dot(theta))\n",
    "    reg = (_lambda/(2 * m)) * np.sum(theta**2)\n",
    "\n",
    "    return (1 / m) * (-y.T.dot(np.log(h)) - (1 - y).T.dot(np.log(1 - h))) + reg\n",
    "\n",
    "#Regularized gradient function\n",
    "def regGradient(theta, XX, yy, _lambda = 0.01):\n",
    "    m, n = XX.shape\n",
    "    h = sigmoid(XX.dot(theta))\n",
    "    reg = _lambda * theta /m\n",
    "\n",
    "    return ((1 / m) * XX.T.dot(h - yy)) + reg"
   ]
  },
  {
   "cell_type": "code",
   "execution_count": 12,
   "metadata": {},
   "outputs": [],
   "source": [
    "theta = np.random.randn(3, 1)\n",
    "alpha = 0.1\n",
    "\n",
    "costs = np.empty([300000])\n",
    "\n",
    "repetition = 300000\n",
    "i = 0\n",
    "mm = X_train.shape[0]\n",
    "while i < repetition:\n",
    "    costs[i] = regCostFunction(theta, X_train, y_train)\n",
    "    theta = theta - (alpha / mm) * (regGradient(theta, X_train, y_train))\n",
    "    i = i + 1"
   ]
  },
  {
   "cell_type": "code",
   "execution_count": 13,
   "metadata": {},
   "outputs": [
    {
     "data": {
      "text/plain": [
       "[<matplotlib.lines.Line2D at 0x7f18efb98668>]"
      ]
     },
     "execution_count": 13,
     "metadata": {},
     "output_type": "execute_result"
    },
    {
     "data": {
      "image/png": "[encoded data removed]",
      "text/plain": [
       "<Figure size 432x288 with 1 Axes>"
      ]
     },
     "metadata": {
      "needs_background": "light"
     },
     "output_type": "display_data"
    }
   ],
   "source": [
    "plt.plot(range(300000),costs)"
   ]
  },
  {
   "cell_type": "code",
   "execution_count": 14,
   "metadata": {},
   "outputs": [
    {
     "name": "stdout",
     "output_type": "stream",
     "text": [
      "[[3.29514027e-01]\n",
      " [9.80185376e-01]\n",
      " [9.99942090e-01]\n",
      " [9.99760114e-01]\n",
      " [7.02278139e-01]\n",
      " [9.63700917e-02]\n",
      " [9.78285636e-01]\n",
      " [1.14245460e-02]\n",
      " [9.96313990e-01]\n",
      " [8.86860121e-01]\n",
      " [8.73577064e-01]\n",
      " [9.98231676e-01]\n",
      " [9.99592689e-01]\n",
      " [2.38543184e-01]\n",
      " [9.99882645e-01]\n",
      " [3.74522715e-02]\n",
      " [5.88527735e-01]\n",
      " [9.97633999e-01]\n",
      " [9.96830424e-01]\n",
      " [9.77255631e-01]\n",
      " [6.31653302e-01]\n",
      " [9.98377619e-01]\n",
      " [7.38507157e-04]\n",
      " [8.55825541e-01]\n",
      " [4.24345561e-04]\n",
      " [9.87489796e-01]\n",
      " [4.88585554e-03]\n",
      " [3.27255999e-01]\n",
      " [5.11403554e-01]\n",
      " [2.65567400e-02]]\n",
      "30 3\n",
      "0 [0.]\n",
      "1 [1.]\n",
      "1 [1.]\n",
      "1 [1.]\n",
      "1 [0.]\n",
      "0 [0.]\n",
      "1 [1.]\n",
      "0 [0.]\n",
      "1 [1.]\n",
      "1 [1.]\n",
      "1 [1.]\n",
      "1 [1.]\n",
      "1 [1.]\n",
      "0 [0.]\n",
      "1 [1.]\n",
      "0 [0.]\n",
      "1 [1.]\n",
      "1 [1.]\n",
      "1 [1.]\n",
      "1 [1.]\n",
      "1 [0.]\n",
      "1 [1.]\n",
      "0 [0.]\n",
      "1 [1.]\n",
      "0 [0.]\n",
      "1 [1.]\n",
      "0 [0.]\n",
      "0 [0.]\n",
      "1 [1.]\n",
      "0 [0.]\n",
      "93.33333333333333\n"
     ]
    }
   ],
   "source": [
    "pred = sigmoid(X_test.dot(theta))\n",
    "print(pred)\n",
    "# a, b = X_test.shape\n",
    "# for i in range(b):\n",
    "#     print(i, sigmoid(X_test.dot(theta)))\n",
    "counts = 0\n",
    "a, b = X_test.shape\n",
    "print(a, b)\n",
    "for i in range(a):\n",
    "    if pred[i] > 0.5:\n",
    "        if int(y_test[i]) == 1:\n",
    "            counts = counts + 1\n",
    "        print(1, y_test[i])\n",
    "    else:\n",
    "        if int(y_test[i]) == 0 :\n",
    "            counts = counts + 1\n",
    "        print(0, y_test[i])\n",
    "        \n",
    "print(counts/30 * 100)"
   ]
  },
  {
   "cell_type": "code",
   "execution_count": null,
   "metadata": {},
   "outputs": [],
   "source": []
  },
  {
   "cell_type": "code",
   "execution_count": null,
   "metadata": {},
   "outputs": [],
   "source": []
  }
 ],
 "metadata": {
  "kernelspec": {
   "display_name": "Python 3",
   "language": "python",
   "name": "python3"
  },
  "language_info": {
   "codemirror_mode": {
    "name": "ipython",
    "version": 3
   },
   "file_extension": ".py",
   "mimetype": "text/x-python",
   "name": "python",
   "nbconvert_exporter": "python",
   "pygments_lexer": "ipython3",
   "version": "3.6.7"
  }
 },
 "nbformat": 4,
 "nbformat_minor": 2
}
