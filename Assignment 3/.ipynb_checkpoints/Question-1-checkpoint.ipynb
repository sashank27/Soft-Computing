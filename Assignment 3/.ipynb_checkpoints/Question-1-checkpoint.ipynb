{
 "cells": [
  {
   "cell_type": "code",
   "execution_count": 30,
   "metadata": {},
   "outputs": [],
   "source": [
    "import numpy as np\n",
    "import matplotlib.pyplot as plt\n",
    "import pandas as pd\n",
    "from sklearn.model_selection import train_test_split"
   ]
  },
  {
   "cell_type": "code",
   "execution_count": 35,
   "metadata": {},
   "outputs": [],
   "source": [
    "microData = pd.read_csv('Microchips.csv', index_col = 0)"
   ]
  },
  {
   "cell_type": "code",
   "execution_count": 38,
   "metadata": {},
   "outputs": [
    {
     "data": {
      "text/html": [
       "<div>\n",
       "<style scoped>\n",
       "    .dataframe tbody tr th:only-of-type {\n",
       "        vertical-align: middle;\n",
       "    }\n",
       "\n",
       "    .dataframe tbody tr th {\n",
       "        vertical-align: top;\n",
       "    }\n",
       "\n",
       "    .dataframe thead th {\n",
       "        text-align: right;\n",
       "    }\n",
       "</style>\n",
       "<table border=\"1\" class=\"dataframe\">\n",
       "  <thead>\n",
       "    <tr style=\"text-align: right;\">\n",
       "      <th></th>\n",
       "      <th>test1</th>\n",
       "      <th>test2</th>\n",
       "      <th>result</th>\n",
       "    </tr>\n",
       "  </thead>\n",
       "  <tbody>\n",
       "    <tr>\n",
       "      <th>1</th>\n",
       "      <td>-0.478690</td>\n",
       "      <td>0.633770</td>\n",
       "      <td>1</td>\n",
       "    </tr>\n",
       "    <tr>\n",
       "      <th>2</th>\n",
       "      <td>-0.092742</td>\n",
       "      <td>0.553360</td>\n",
       "      <td>1</td>\n",
       "    </tr>\n",
       "    <tr>\n",
       "      <th>3</th>\n",
       "      <td>0.961410</td>\n",
       "      <td>0.085526</td>\n",
       "      <td>0</td>\n",
       "    </tr>\n",
       "    <tr>\n",
       "      <th>4</th>\n",
       "      <td>-0.547810</td>\n",
       "      <td>0.706870</td>\n",
       "      <td>0</td>\n",
       "    </tr>\n",
       "    <tr>\n",
       "      <th>5</th>\n",
       "      <td>0.229840</td>\n",
       "      <td>-0.411550</td>\n",
       "      <td>1</td>\n",
       "    </tr>\n",
       "  </tbody>\n",
       "</table>\n",
       "</div>"
      ],
      "text/plain": [
       "      test1     test2  result\n",
       "1 -0.478690  0.633770       1\n",
       "2 -0.092742  0.553360       1\n",
       "3  0.961410  0.085526       0\n",
       "4 -0.547810  0.706870       0\n",
       "5  0.229840 -0.411550       1"
      ]
     },
     "execution_count": 38,
     "metadata": {},
     "output_type": "execute_result"
    }
   ],
   "source": [
    "microData.head()"
   ]
  },
  {
   "cell_type": "code",
   "execution_count": 39,
   "metadata": {},
   "outputs": [
    {
     "data": {
      "text/plain": [
       "(118, 3)"
      ]
     },
     "execution_count": 39,
     "metadata": {},
     "output_type": "execute_result"
    }
   ],
   "source": [
    "microData.shape"
   ]
  },
  {
   "cell_type": "code",
   "execution_count": 40,
   "metadata": {},
   "outputs": [
    {
     "data": {
      "text/plain": [
       "1     -0.478690\n",
       "2     -0.092742\n",
       "3      0.961410\n",
       "4     -0.547810\n",
       "5      0.229840\n",
       "6      0.765550\n",
       "7     -0.115780\n",
       "8      0.466010\n",
       "9     -0.046659\n",
       "10     0.466010\n",
       "11     0.926840\n",
       "12     0.166470\n",
       "13    -0.282830\n",
       "14     0.673390\n",
       "15    -0.173390\n",
       "16     0.627300\n",
       "17    -0.207950\n",
       "18     0.137670\n",
       "19     0.898040\n",
       "20    -0.305880\n",
       "21     0.224080\n",
       "22     0.575460\n",
       "23     0.016705\n",
       "24     0.322000\n",
       "25     0.483290\n",
       "26     0.615780\n",
       "27    -0.605410\n",
       "28     0.644590\n",
       "29    -0.046659\n",
       "30     0.529380\n",
       "         ...   \n",
       "89     0.632650\n",
       "90    -0.138820\n",
       "91     0.673390\n",
       "92     0.224080\n",
       "93    -0.006336\n",
       "94     0.293200\n",
       "95     0.396890\n",
       "96     0.592740\n",
       "97    -0.150350\n",
       "98     0.322000\n",
       "99    -0.697580\n",
       "100    0.736750\n",
       "101    0.442970\n",
       "102   -0.599650\n",
       "103   -0.392280\n",
       "104   -0.288590\n",
       "105   -0.265550\n",
       "106   -0.380760\n",
       "107    0.794350\n",
       "108   -0.207950\n",
       "109   -0.236750\n",
       "110    0.287440\n",
       "111    0.103110\n",
       "112    0.051267\n",
       "113   -0.755180\n",
       "114    0.828920\n",
       "115   -0.490210\n",
       "116   -0.213710\n",
       "117   -0.236750\n",
       "118    0.823160\n",
       "Name: test1, Length: 118, dtype: float64"
      ]
     },
     "execution_count": 40,
     "metadata": {},
     "output_type": "execute_result"
    }
   ],
   "source": [
    "microData['test1']"
   ]
  },
  {
   "cell_type": "code",
   "execution_count": null,
   "metadata": {},
   "outputs": [],
   "source": []
  },
  {
   "cell_type": "code",
   "execution_count": 26,
   "metadata": {},
   "outputs": [],
   "source": [
    "X = microData.drop(['result'], axis = 1)"
   ]
  },
  {
   "cell_type": "code",
   "execution_count": 27,
   "metadata": {},
   "outputs": [
    {
     "data": {
      "text/html": [
       "<div>\n",
       "<style scoped>\n",
       "    .dataframe tbody tr th:only-of-type {\n",
       "        vertical-align: middle;\n",
       "    }\n",
       "\n",
       "    .dataframe tbody tr th {\n",
       "        vertical-align: top;\n",
       "    }\n",
       "\n",
       "    .dataframe thead th {\n",
       "        text-align: right;\n",
       "    }\n",
       "</style>\n",
       "<table border=\"1\" class=\"dataframe\">\n",
       "  <thead>\n",
       "    <tr style=\"text-align: right;\">\n",
       "      <th></th>\n",
       "      <th>test1</th>\n",
       "      <th>test2</th>\n",
       "    </tr>\n",
       "  </thead>\n",
       "  <tbody>\n",
       "    <tr>\n",
       "      <th>1</th>\n",
       "      <td>-0.478690</td>\n",
       "      <td>0.633770</td>\n",
       "    </tr>\n",
       "    <tr>\n",
       "      <th>2</th>\n",
       "      <td>-0.092742</td>\n",
       "      <td>0.553360</td>\n",
       "    </tr>\n",
       "    <tr>\n",
       "      <th>3</th>\n",
       "      <td>0.961410</td>\n",
       "      <td>0.085526</td>\n",
       "    </tr>\n",
       "    <tr>\n",
       "      <th>4</th>\n",
       "      <td>-0.547810</td>\n",
       "      <td>0.706870</td>\n",
       "    </tr>\n",
       "    <tr>\n",
       "      <th>5</th>\n",
       "      <td>0.229840</td>\n",
       "      <td>-0.411550</td>\n",
       "    </tr>\n",
       "  </tbody>\n",
       "</table>\n",
       "</div>"
      ],
      "text/plain": [
       "      test1     test2\n",
       "1 -0.478690  0.633770\n",
       "2 -0.092742  0.553360\n",
       "3  0.961410  0.085526\n",
       "4 -0.547810  0.706870\n",
       "5  0.229840 -0.411550"
      ]
     },
     "execution_count": 27,
     "metadata": {},
     "output_type": "execute_result"
    }
   ],
   "source": [
    "X.head()"
   ]
  },
  {
   "cell_type": "code",
   "execution_count": 28,
   "metadata": {},
   "outputs": [],
   "source": [
    "Y = microData.drop(['test1', 'test2'], axis = 1)"
   ]
  },
  {
   "cell_type": "code",
   "execution_count": 29,
   "metadata": {},
   "outputs": [
    {
     "data": {
      "text/html": [
       "<div>\n",
       "<style scoped>\n",
       "    .dataframe tbody tr th:only-of-type {\n",
       "        vertical-align: middle;\n",
       "    }\n",
       "\n",
       "    .dataframe tbody tr th {\n",
       "        vertical-align: top;\n",
       "    }\n",
       "\n",
       "    .dataframe thead th {\n",
       "        text-align: right;\n",
       "    }\n",
       "</style>\n",
       "<table border=\"1\" class=\"dataframe\">\n",
       "  <thead>\n",
       "    <tr style=\"text-align: right;\">\n",
       "      <th></th>\n",
       "      <th>result</th>\n",
       "    </tr>\n",
       "  </thead>\n",
       "  <tbody>\n",
       "    <tr>\n",
       "      <th>1</th>\n",
       "      <td>1</td>\n",
       "    </tr>\n",
       "    <tr>\n",
       "      <th>2</th>\n",
       "      <td>1</td>\n",
       "    </tr>\n",
       "    <tr>\n",
       "      <th>3</th>\n",
       "      <td>0</td>\n",
       "    </tr>\n",
       "    <tr>\n",
       "      <th>4</th>\n",
       "      <td>0</td>\n",
       "    </tr>\n",
       "    <tr>\n",
       "      <th>5</th>\n",
       "      <td>1</td>\n",
       "    </tr>\n",
       "  </tbody>\n",
       "</table>\n",
       "</div>"
      ],
      "text/plain": [
       "   result\n",
       "1       1\n",
       "2       1\n",
       "3       0\n",
       "4       0\n",
       "5       1"
      ]
     },
     "execution_count": 29,
     "metadata": {},
     "output_type": "execute_result"
    }
   ],
   "source": [
    "Y.head()"
   ]
  },
  {
   "cell_type": "code",
   "execution_count": 76,
   "metadata": {},
   "outputs": [],
   "source": [
    "#Normalising Inputs(2D input)\n",
    "def normalise(inp):\n",
    "    return np.array((inp-inp.mean())/inp.std())\n",
    "Y = normalise(Y)\n",
    "X = normalise(X)"
   ]
  },
  {
   "cell_type": "code",
   "execution_count": 77,
   "metadata": {},
   "outputs": [],
   "source": [
    "X = np.c_[np.ones(X.shape[0]),np.array(X)]"
   ]
  },
  {
   "cell_type": "code",
   "execution_count": 79,
   "metadata": {},
   "outputs": [
    {
     "data": {
      "text/plain": [
       "array([[ 1.        , -1.07412632,  0.86709878],\n",
       "       [ 1.        , -0.29702966,  0.71238767],\n",
       "       [ 1.        ,  1.82547905, -0.18773812],\n",
       "       [ 1.        , -1.21329771,  1.00774523],\n",
       "       [ 1.        ,  0.35248113, -1.14412635]])"
      ]
     },
     "execution_count": 79,
     "metadata": {},
     "output_type": "execute_result"
    }
   ],
   "source": [
    "X[:5]"
   ]
  },
  {
   "cell_type": "code",
   "execution_count": 80,
   "metadata": {},
   "outputs": [],
   "source": [
    "X_train, X_test, y_train, y_test = train_test_split(X, Y, test_size=0.3)"
   ]
  },
  {
   "cell_type": "code",
   "execution_count": 81,
   "metadata": {},
   "outputs": [
    {
     "name": "stdout",
     "output_type": "stream",
     "text": [
      "(82, 3) (82, 1)\n",
      "(36, 3) (36, 1)\n"
     ]
    }
   ],
   "source": [
    "print(X_train.shape, y_train.shape)\n",
    "print(X_test.shape, y_test.shape)"
   ]
  },
  {
   "cell_type": "code",
   "execution_count": 91,
   "metadata": {},
   "outputs": [
    {
     "data": {
      "text/plain": [
       "<matplotlib.collections.PathCollection at 0xf86a3f0>"
      ]
     },
     "execution_count": 91,
     "metadata": {},
     "output_type": "execute_result"
    },
    {
     "data": {
      "image/png": "[encoded data removed]",
      "text/plain": [
       "<Figure size 432x288 with 1 Axes>"
      ]
     },
     "metadata": {},
     "output_type": "display_data"
    }
   ],
   "source": [
    "plt.scatter(X_train[:, 1], y_train, color = \"r\", marker = \"o\", s = 5)\n",
    "plt.scatter(X_train[:, 2], y_train, color = \"b\", marker = \"s\", s = 5)\n",
    "# X[:, 1]"
   ]
  },
  {
   "cell_type": "code",
   "execution_count": 54,
   "metadata": {},
   "outputs": [],
   "source": [
    "from mpl_toolkits import mplot3d"
   ]
  },
  {
   "cell_type": "code",
   "execution_count": 104,
   "metadata": {},
   "outputs": [
    {
     "name": "stdout",
     "output_type": "stream",
     "text": [
      "(82, 3)\n",
      "(82, 1)\n"
     ]
    },
    {
     "data": {
      "image/png": "[encoded data removed]",
      "text/plain": [
       "<Figure size 432x288 with 1 Axes>"
      ]
     },
     "metadata": {},
     "output_type": "display_data"
    }
   ],
   "source": [
    "ax = plt.axes(projection='3d')\n",
    "ax.scatter3D(X_train[:, 1], X_train[:, 2], y_train[:, 0] == 1, cmap='Greens')\n",
    "ax.scatter3D(X_train[:, 1], X_train[:, 2], y_train[:, 0] == 0, cmap='Blues')\n",
    "print(X_train.shape)\n",
    "print(y_train.shape)"
   ]
  },
  {
   "cell_type": "code",
   "execution_count": 65,
   "metadata": {},
   "outputs": [],
   "source": [
    "ind0 = np.array(y_train['result'] == 0)\n",
    "ind1 = np.array(y_train['result'] == 1)"
   ]
  },
  {
   "cell_type": "code",
   "execution_count": 130,
   "metadata": {},
   "outputs": [],
   "source": [
    "#Logistic Regression\n",
    "\n",
    "def sigmoid(z):\n",
    "    return 1.0 / (1 + np.exp(-z))\n",
    "\n",
    "#Regularized cost function\n",
    "def regCostFunction(theta, X, y, _lambda = 0.1):\n",
    "    m = len(y)\n",
    "    h = sigmoid(X.dot(theta))\n",
    "    reg = (_lambda/(2 * m)) * np.sum(theta**2)\n",
    "\n",
    "    return (1 / m) * (-y.T.dot(np.log(h)) - (1 - y).T.dot(np.log(1 - h)))\n",
    "\n",
    "#Regularized gradient function\n",
    "def regGradient(theta, XX, yy, _lambda = 0.1):\n",
    "    m, n = XX.shape\n",
    "    h = sigmoid(XX.dot(theta))\n",
    "    reg = _lambda * theta /m\n",
    "\n",
    "    return ((1 / m) * XX.T.dot(h - yy)) + reg"
   ]
  },
  {
   "cell_type": "code",
   "execution_count": 131,
   "metadata": {},
   "outputs": [],
   "source": [
    "theta = np.random.randn(3, 1)\n",
    "alpha = 0.1\n",
    "\n",
    "costs = np.empty([10000])\n",
    "\n",
    "repetition = 10000\n",
    "i = 0\n",
    "mm = X_train.shape[0]\n",
    "while i < repetition:\n",
    "    costs[i] = regCostFunction(theta, X_train, y_train)\n",
    "    theta = theta - (alpha / mm) * (regGradient(theta, X_train, y_train))\n",
    "    i = i + 1\n",
    "    \n"
   ]
  },
  {
   "cell_type": "code",
   "execution_count": 132,
   "metadata": {},
   "outputs": [
    {
     "data": {
      "text/plain": [
       "[<matplotlib.lines.Line2D at 0xf8b5230>]"
      ]
     },
     "execution_count": 132,
     "metadata": {},
     "output_type": "execute_result"
    },
    {
     "data": {
      "image/png": "[encoded data removed]",
      "text/plain": [
       "<Figure size 432x288 with 1 Axes>"
      ]
     },
     "metadata": {},
     "output_type": "display_data"
    }
   ],
   "source": [
    "plt.plot(range(10000),costs)"
   ]
  },
  {
   "cell_type": "code",
   "execution_count": 135,
   "metadata": {},
   "outputs": [
    {
     "name": "stdout",
     "output_type": "stream",
     "text": [
      "[-2.58425789] [-0.29991588] [-0.50988269]\n"
     ]
    }
   ],
   "source": [
    "print(theta[0], theta[1], theta[2])"
   ]
  },
  {
   "cell_type": "code",
   "execution_count": 136,
   "metadata": {},
   "outputs": [
    {
     "name": "stdout",
     "output_type": "stream",
     "text": [
      "[[0.12979681]\n",
      " [0.04582472]\n",
      " [0.06771079]\n",
      " [0.04739893]\n",
      " [0.13221455]\n",
      " [0.07410267]\n",
      " [0.11733256]\n",
      " [0.14495984]\n",
      " [0.04243223]\n",
      " [0.03750283]\n",
      " [0.04357171]\n",
      " [0.08949938]\n",
      " [0.04971798]\n",
      " [0.04799416]\n",
      " [0.14307385]\n",
      " [0.04071904]\n",
      " [0.03599724]\n",
      " [0.03654296]\n",
      " [0.08914279]\n",
      " [0.07713222]\n",
      " [0.11766683]\n",
      " [0.04476681]\n",
      " [0.03992595]\n",
      " [0.12013238]\n",
      " [0.05668194]\n",
      " [0.15851358]\n",
      " [0.06966481]\n",
      " [0.11709484]\n",
      " [0.04823488]\n",
      " [0.0348128 ]\n",
      " [0.04963376]\n",
      " [0.09538837]\n",
      " [0.05619105]\n",
      " [0.04158486]\n",
      " [0.03395952]\n",
      " [0.03751457]]\n",
      "[[0.12979681]\n",
      " [0.04582472]\n",
      " [0.06771079]\n",
      " [0.04739893]\n",
      " [0.13221455]\n",
      " [0.07410267]\n",
      " [0.11733256]\n",
      " [0.14495984]\n",
      " [0.04243223]\n",
      " [0.03750283]\n",
      " [0.04357171]\n",
      " [0.08949938]\n",
      " [0.04971798]\n",
      " [0.04799416]\n",
      " [0.14307385]\n",
      " [0.04071904]\n",
      " [0.03599724]\n",
      " [0.03654296]\n",
      " [0.08914279]\n",
      " [0.07713222]\n",
      " [0.11766683]\n",
      " [0.04476681]\n",
      " [0.03992595]\n",
      " [0.12013238]\n",
      " [0.05668194]\n",
      " [0.15851358]\n",
      " [0.06966481]\n",
      " [0.11709484]\n",
      " [0.04823488]\n",
      " [0.0348128 ]\n",
      " [0.04963376]\n",
      " [0.09538837]\n",
      " [0.05619105]\n",
      " [0.04158486]\n",
      " [0.03395952]\n",
      " [0.03751457]]\n",
      "[[0.12979681]\n",
      " [0.04582472]\n",
      " [0.06771079]\n",
      " [0.04739893]\n",
      " [0.13221455]\n",
      " [0.07410267]\n",
      " [0.11733256]\n",
      " [0.14495984]\n",
      " [0.04243223]\n",
      " [0.03750283]\n",
      " [0.04357171]\n",
      " [0.08949938]\n",
      " [0.04971798]\n",
      " [0.04799416]\n",
      " [0.14307385]\n",
      " [0.04071904]\n",
      " [0.03599724]\n",
      " [0.03654296]\n",
      " [0.08914279]\n",
      " [0.07713222]\n",
      " [0.11766683]\n",
      " [0.04476681]\n",
      " [0.03992595]\n",
      " [0.12013238]\n",
      " [0.05668194]\n",
      " [0.15851358]\n",
      " [0.06966481]\n",
      " [0.11709484]\n",
      " [0.04823488]\n",
      " [0.0348128 ]\n",
      " [0.04963376]\n",
      " [0.09538837]\n",
      " [0.05619105]\n",
      " [0.04158486]\n",
      " [0.03395952]\n",
      " [0.03751457]]\n"
     ]
    }
   ],
   "source": [
    "a, b = X_test.shape\n",
    "for i in range(b):\n",
    "    print(sigmoid(X_test.dot(theta)))"
   ]
  }
 ],
 "metadata": {
  "kernelspec": {
   "display_name": "Python 3",
   "language": "python",
   "name": "python3"
  },
  "language_info": {
   "codemirror_mode": {
    "name": "ipython",
    "version": 3
   },
   "file_extension": ".py",
   "mimetype": "text/x-python",
   "name": "python",
   "nbconvert_exporter": "python",
   "pygments_lexer": "ipython3",
   "version": "3.6.7"
  }
 },
 "nbformat": 4,
 "nbformat_minor": 2
}
