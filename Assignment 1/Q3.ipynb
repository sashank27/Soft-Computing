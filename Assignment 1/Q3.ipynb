{
 "cells": [
  {
   "cell_type": "code",
   "execution_count": 3,
   "metadata": {},
   "outputs": [],
   "source": [
    "import numpy\n",
    "import matplotlib.pyplot as plt\n",
    "import math"
   ]
  },
  {
   "cell_type": "code",
   "execution_count": 4,
   "metadata": {},
   "outputs": [],
   "source": [
    "# input data\n",
    "V = numpy.array([54.3, 61.8, 72.4, 88.7, 118.6, 194])\n",
    "P = numpy.array([61.2, 49.5, 37.6, 28.4, 19.2, 10.1])"
   ]
  },
  {
   "cell_type": "markdown",
   "metadata": {},
   "source": [
    "### Assume PV^a = C\n",
    "Taking log, we get: logP + alogV = logC \n",
    "=> logC - alogV = logP"
   ]
  },
  {
   "cell_type": "code",
   "execution_count": 6,
   "metadata": {},
   "outputs": [],
   "source": [
    "X = numpy.empty([6])\n",
    "Y = numpy.empty([6])\n",
    "\n",
    "for i in range(0, 6):\n",
    "    X[i] = math.log(V[i])\n",
    "    Y[i] = math.log(P[i])"
   ]
  },
  {
   "cell_type": "code",
   "execution_count": 7,
   "metadata": {},
   "outputs": [
    {
     "data": {
      "text/plain": [
       "<matplotlib.collections.PathCollection at 0x3a24f50>"
      ]
     },
     "execution_count": 7,
     "metadata": {},
     "output_type": "execute_result"
    },
    {
     "data": {
      "image/png": "[encoded data removed]",
      "text/plain": [
       "<Figure size 432x288 with 1 Axes>"
      ]
     },
     "metadata": {},
     "output_type": "display_data"
    }
   ],
   "source": [
    "plt.scatter(X, Y, color = \"m\", marker = \"o\", s = 30)"
   ]
  },
  {
   "cell_type": "markdown",
   "metadata": {},
   "source": [
    "### Finding the parameter a and C"
   ]
  },
  {
   "cell_type": "code",
   "execution_count": 14,
   "metadata": {},
   "outputs": [
    {
     "name": "stdout",
     "output_type": "stream",
     "text": [
      "a= -1.4042040049308429\n",
      "logC= 9.678580389962825\n",
      "C= 15971.807087830595\n"
     ]
    }
   ],
   "source": [
    "# Regression of Y on X\n",
    "m = 6\n",
    "aa = 0\n",
    "bb = 0\n",
    "cc = 0\n",
    "dd = 0\n",
    "for xi in X:\n",
    "    aa = aa + xi\n",
    "    cc = cc + xi*xi\n",
    "\n",
    "for yi in Y:\n",
    "    bb = bb + yi\n",
    "    \n",
    "for i in range(0, len(X)):\n",
    "    dd = dd + X[i]*Y[i]\n",
    "    \n",
    "a = (aa*bb - dd*m)/(aa*aa - cc*m)\n",
    "logC = (aa*dd - bb*cc)/(aa*aa - cc*m)\n",
    "\n",
    "print(\"a=\", a)\n",
    "print(\"logC=\", logC)\n",
    "print(\"C=\", math.exp(logC))"
   ]
  },
  {
   "cell_type": "code",
   "execution_count": 18,
   "metadata": {},
   "outputs": [
    {
     "name": "stdout",
     "output_type": "stream",
     "text": [
      "[3.99452423 4.12390336 4.2822063  4.48525989 4.77575649 5.26785816]\n",
      "[4.11414719 3.90197267 3.62700405 3.34638915 2.95491028 2.31253542]\n"
     ]
    },
    {
     "data": {
      "image/png": "[encoded data removed]",
      "text/plain": [
       "<Figure size 432x288 with 1 Axes>"
      ]
     },
     "metadata": {},
     "output_type": "display_data"
    }
   ],
   "source": [
    "print(X)\n",
    "print(Y)\n",
    "h = logC + a*X\n",
    "plt.scatter(X, Y, color = \"m\", marker = \"o\", s = 30)\n",
    "plt.plot(X, h, color = \"g\")\n",
    "plt.grid(color=\"r\")\n",
    "plt.show()"
   ]
  },
  {
   "cell_type": "markdown",
   "metadata": {},
   "source": [
    "#### Estimate P when V = 100"
   ]
  },
  {
   "cell_type": "code",
   "execution_count": 13,
   "metadata": {},
   "outputs": [
    {
     "name": "stdout",
     "output_type": "stream",
     "text": [
      "24.82824636596125\n"
     ]
    }
   ],
   "source": [
    "print(math.exp(logC + a*math.log(100)))"
   ]
  }
 ],
 "metadata": {
  "kernelspec": {
   "display_name": "Python 3",
   "language": "python",
   "name": "python3"
  },
  "language_info": {
   "codemirror_mode": {
    "name": "ipython",
    "version": 3
   },
   "file_extension": ".py",
   "mimetype": "text/x-python",
   "name": "python",
   "nbconvert_exporter": "python",
   "pygments_lexer": "ipython3",
   "version": "3.6.5"
  }
 },
 "nbformat": 4,
 "nbformat_minor": 2
}
