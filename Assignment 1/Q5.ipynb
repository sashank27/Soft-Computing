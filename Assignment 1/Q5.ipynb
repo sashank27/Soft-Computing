{
 "cells": [
  {
   "cell_type": "markdown",
   "metadata": {},
   "source": [
    "## House Price Prediction using Linear Regression"
   ]
  },
  {
   "cell_type": "markdown",
   "metadata": {},
   "source": [
    "#### Required Libraries"
   ]
  },
  {
   "cell_type": "code",
   "execution_count": 1,
   "metadata": {},
   "outputs": [],
   "source": [
    "import numpy\n",
    "import pandas as pd\n",
    "import matplotlib.pyplot as plt\n",
    "import math\n",
    "import csv\n",
    "from numpy.linalg import inv"
   ]
  },
  {
   "cell_type": "markdown",
   "metadata": {},
   "source": [
    "#### Importing Data"
   ]
  },
  {
   "cell_type": "code",
   "execution_count": 2,
   "metadata": {},
   "outputs": [
    {
     "data": {
      "text/html": [
       "<div>\n",
       "<style scoped>\n",
       "    .dataframe tbody tr th:only-of-type {\n",
       "        vertical-align: middle;\n",
       "    }\n",
       "\n",
       "    .dataframe tbody tr th {\n",
       "        vertical-align: top;\n",
       "    }\n",
       "\n",
       "    .dataframe thead th {\n",
       "        text-align: right;\n",
       "    }\n",
       "</style>\n",
       "<table border=\"1\" class=\"dataframe\">\n",
       "  <thead>\n",
       "    <tr style=\"text-align: right;\">\n",
       "      <th></th>\n",
       "      <th>price</th>\n",
       "      <th>lotsize</th>\n",
       "      <th>bedrooms</th>\n",
       "      <th>bathrms</th>\n",
       "      <th>stories</th>\n",
       "      <th>driveway</th>\n",
       "      <th>recroom</th>\n",
       "      <th>fullbase</th>\n",
       "      <th>gashw</th>\n",
       "      <th>airco</th>\n",
       "      <th>garagepl</th>\n",
       "      <th>prefarea</th>\n",
       "    </tr>\n",
       "  </thead>\n",
       "  <tbody>\n",
       "    <tr>\n",
       "      <th>1</th>\n",
       "      <td>42000.0</td>\n",
       "      <td>5850</td>\n",
       "      <td>3</td>\n",
       "      <td>1</td>\n",
       "      <td>2</td>\n",
       "      <td>yes</td>\n",
       "      <td>no</td>\n",
       "      <td>yes</td>\n",
       "      <td>no</td>\n",
       "      <td>no</td>\n",
       "      <td>1</td>\n",
       "      <td>no</td>\n",
       "    </tr>\n",
       "    <tr>\n",
       "      <th>2</th>\n",
       "      <td>38500.0</td>\n",
       "      <td>4000</td>\n",
       "      <td>2</td>\n",
       "      <td>1</td>\n",
       "      <td>1</td>\n",
       "      <td>yes</td>\n",
       "      <td>no</td>\n",
       "      <td>no</td>\n",
       "      <td>no</td>\n",
       "      <td>no</td>\n",
       "      <td>0</td>\n",
       "      <td>no</td>\n",
       "    </tr>\n",
       "    <tr>\n",
       "      <th>3</th>\n",
       "      <td>49500.0</td>\n",
       "      <td>3060</td>\n",
       "      <td>3</td>\n",
       "      <td>1</td>\n",
       "      <td>1</td>\n",
       "      <td>yes</td>\n",
       "      <td>no</td>\n",
       "      <td>no</td>\n",
       "      <td>no</td>\n",
       "      <td>no</td>\n",
       "      <td>0</td>\n",
       "      <td>no</td>\n",
       "    </tr>\n",
       "    <tr>\n",
       "      <th>4</th>\n",
       "      <td>60500.0</td>\n",
       "      <td>6650</td>\n",
       "      <td>3</td>\n",
       "      <td>1</td>\n",
       "      <td>2</td>\n",
       "      <td>yes</td>\n",
       "      <td>yes</td>\n",
       "      <td>no</td>\n",
       "      <td>no</td>\n",
       "      <td>no</td>\n",
       "      <td>0</td>\n",
       "      <td>no</td>\n",
       "    </tr>\n",
       "    <tr>\n",
       "      <th>5</th>\n",
       "      <td>61000.0</td>\n",
       "      <td>6360</td>\n",
       "      <td>2</td>\n",
       "      <td>1</td>\n",
       "      <td>1</td>\n",
       "      <td>yes</td>\n",
       "      <td>no</td>\n",
       "      <td>no</td>\n",
       "      <td>no</td>\n",
       "      <td>no</td>\n",
       "      <td>0</td>\n",
       "      <td>no</td>\n",
       "    </tr>\n",
       "  </tbody>\n",
       "</table>\n",
       "</div>"
      ],
      "text/plain": [
       "     price  lotsize  bedrooms  bathrms  stories driveway recroom fullbase  \\\n",
       "1  42000.0     5850         3        1        2      yes      no      yes   \n",
       "2  38500.0     4000         2        1        1      yes      no       no   \n",
       "3  49500.0     3060         3        1        1      yes      no       no   \n",
       "4  60500.0     6650         3        1        2      yes     yes       no   \n",
       "5  61000.0     6360         2        1        1      yes      no       no   \n",
       "\n",
       "  gashw airco  garagepl prefarea  \n",
       "1    no    no         1       no  \n",
       "2    no    no         0       no  \n",
       "3    no    no         0       no  \n",
       "4    no    no         0       no  \n",
       "5    no    no         0       no  "
      ]
     },
     "execution_count": 2,
     "metadata": {},
     "output_type": "execute_result"
    }
   ],
   "source": [
    "inputData = pd.read_csv('Housing Price data sets.csv', index_col=0)\n",
    "inputData[:5]"
   ]
  },
  {
   "cell_type": "markdown",
   "metadata": {},
   "source": [
    "#### Organizing the data"
   ]
  },
  {
   "cell_type": "code",
   "execution_count": 3,
   "metadata": {},
   "outputs": [],
   "source": [
    "inputData.driveway.replace(to_replace=['no', 'yes'], value=[0, 1], inplace=True)\n",
    "inputData.recroom.replace(to_replace=['no','yes'], value=[0,1], inplace=True)\n",
    "inputData.fullbase.replace(to_replace=['no','yes'], value=[0,1], inplace=True)\n",
    "inputData.gashw.replace(to_replace=['no','yes'], value=[0,1], inplace=True)\n",
    "inputData.airco.replace(to_replace=['no','yes'], value=[0,1], inplace=True)\n",
    "inputData.prefarea.replace(to_replace=['no','yes'], value=[0,1], inplace=True)\n",
    "x = inputData.drop(['price'], axis = 1)\n",
    "x = numpy.array(x)"
   ]
  },
  {
   "cell_type": "code",
   "execution_count": 4,
   "metadata": {},
   "outputs": [],
   "source": [
    "y = inputData['price']\n",
    "y = numpy.array(y)"
   ]
  },
  {
   "cell_type": "code",
   "execution_count": 5,
   "metadata": {},
   "outputs": [
    {
     "data": {
      "text/plain": [
       "array([[5850,    3,    1,    2,    1,    0,    1,    0,    0,    1,    0],\n",
       "       [4000,    2,    1,    1,    1,    0,    0,    0,    0,    0,    0],\n",
       "       [3060,    3,    1,    1,    1,    0,    0,    0,    0,    0,    0],\n",
       "       [6650,    3,    1,    2,    1,    1,    0,    0,    0,    0,    0],\n",
       "       [6360,    2,    1,    1,    1,    0,    0,    0,    0,    0,    0]])"
      ]
     },
     "execution_count": 5,
     "metadata": {},
     "output_type": "execute_result"
    }
   ],
   "source": [
    "x[:5]"
   ]
  },
  {
   "cell_type": "code",
   "execution_count": 6,
   "metadata": {},
   "outputs": [
    {
     "data": {
      "text/plain": [
       "array([42000., 38500., 49500., 60500., 61000.])"
      ]
     },
     "execution_count": 6,
     "metadata": {},
     "output_type": "execute_result"
    }
   ],
   "source": [
    "y[:5]"
   ]
  },
  {
   "cell_type": "code",
   "execution_count": 7,
   "metadata": {},
   "outputs": [
    {
     "name": "stdout",
     "output_type": "stream",
     "text": [
      "(546, 1)\n",
      "(546, 11)\n"
     ]
    }
   ],
   "source": [
    "y = y.reshape(546, 1)\n",
    "print(y.shape)\n",
    "print(x.shape)"
   ]
  },
  {
   "cell_type": "markdown",
   "metadata": {},
   "source": [
    "#### Cost Function"
   ]
  },
  {
   "cell_type": "code",
   "execution_count": 8,
   "metadata": {},
   "outputs": [],
   "source": [
    "def cost(x, y, w):\n",
    "    m = x.shape[0]\n",
    "    ans = (numpy.sum(numpy.square(numpy.matmul(x, w) - y)))/(2*m)\n",
    "    return ans"
   ]
  },
  {
   "cell_type": "code",
   "execution_count": 9,
   "metadata": {},
   "outputs": [
    {
     "name": "stdout",
     "output_type": "stream",
     "text": [
      "(546, 12)\n"
     ]
    }
   ],
   "source": [
    "x = numpy.c_[numpy.ones(x.shape[0]),numpy.array(x)]\n",
    "print(x.shape)"
   ]
  },
  {
   "cell_type": "markdown",
   "metadata": {},
   "source": [
    "### Finding the Regression Parameters without Normalization"
   ]
  },
  {
   "cell_type": "markdown",
   "metadata": {},
   "source": [
    "#### Using the normal Equation"
   ]
  },
  {
   "cell_type": "code",
   "execution_count": 10,
   "metadata": {},
   "outputs": [
    {
     "name": "stdout",
     "output_type": "stream",
     "text": [
      "[[-4.03835043e+03]\n",
      " [ 3.54630297e+00]\n",
      " [ 1.83200347e+03]\n",
      " [ 1.43355585e+04]\n",
      " [ 6.55694571e+03]\n",
      " [ 6.68777889e+03]\n",
      " [ 4.51128383e+03]\n",
      " [ 5.45238554e+03]\n",
      " [ 1.28314063e+04]\n",
      " [ 1.26328904e+04]\n",
      " [ 4.24482900e+03]\n",
      " [ 9.36951324e+03]]\n"
     ]
    }
   ],
   "source": [
    "xT = x.transpose()\n",
    "xinv = inv(numpy.matmul(xT, x))\n",
    "xy = numpy.matmul(xT, y)\n",
    "w = numpy.matmul(xinv, xy)\n",
    "print(w)"
   ]
  },
  {
   "cell_type": "code",
   "execution_count": 11,
   "metadata": {},
   "outputs": [
    {
     "name": "stdout",
     "output_type": "stream",
     "text": [
      "116323325.68174727\n"
     ]
    }
   ],
   "source": [
    "print(cost(x, y, w))"
   ]
  },
  {
   "cell_type": "markdown",
   "metadata": {},
   "source": [
    "#### Using Gradient Descent Algorithm"
   ]
  },
  {
   "cell_type": "code",
   "execution_count": 12,
   "metadata": {},
   "outputs": [],
   "source": [
    "def calcdj(x, y, w):\n",
    "    m = x.shape[0]\n",
    "#     print(x.shape)\n",
    "    ans = (numpy.matmul(x.transpose(), (numpy.matmul(x, w) - y)))/(m)\n",
    "    return ans"
   ]
  },
  {
   "cell_type": "code",
   "execution_count": 13,
   "metadata": {},
   "outputs": [
    {
     "name": "stdout",
     "output_type": "stream",
     "text": [
      "(546, 12)\n"
     ]
    }
   ],
   "source": [
    "print(x.shape)"
   ]
  },
  {
   "cell_type": "code",
   "execution_count": 14,
   "metadata": {},
   "outputs": [
    {
     "name": "stdout",
     "output_type": "stream",
     "text": [
      "[[-0.37197215]\n",
      " [ 0.6344292 ]\n",
      " [ 0.08744563]\n",
      " [-1.7229559 ]\n",
      " [-0.75494276]\n",
      " [-1.32303478]\n",
      " [-0.40696655]\n",
      " [-0.39742977]\n",
      " [ 1.25313431]\n",
      " [ 0.42589908]\n",
      " [-0.87343488]\n",
      " [-0.74700137]]\n"
     ]
    }
   ],
   "source": [
    "W = numpy.random.randn(12, 1)\n",
    "W = numpy.array(W)\n",
    "print(W)"
   ]
  },
  {
   "cell_type": "code",
   "execution_count": 15,
   "metadata": {},
   "outputs": [
    {
     "name": "stdout",
     "output_type": "stream",
     "text": [
      "(546, 12)\n"
     ]
    }
   ],
   "source": [
    "print(x.shape)"
   ]
  },
  {
   "cell_type": "code",
   "execution_count": 16,
   "metadata": {},
   "outputs": [
    {
     "name": "stderr",
     "output_type": "stream",
     "text": [
      "/root/anaconda3/lib/python3.6/site-packages/ipykernel_launcher.py:3: RuntimeWarning: overflow encountered in square\n",
      "  This is separate from the ipykernel package so we can avoid doing imports until\n",
      "/root/anaconda3/lib/python3.6/site-packages/numpy/core/_methods.py:32: RuntimeWarning: overflow encountered in reduce\n",
      "  return umr_sum(a, axis, dtype, out, keepdims)\n",
      "/root/anaconda3/lib/python3.6/site-packages/ipykernel_launcher.py:8: RuntimeWarning: invalid value encountered in subtract\n",
      "  \n"
     ]
    }
   ],
   "source": [
    "totalRep = 100\n",
    "curRep= 0\n",
    "learningRate = 0.1\n",
    "costs = numpy.empty([totalRep])\n",
    "while curRep < totalRep:\n",
    "    curCost = cost(x, y, W)\n",
    "    dj = calcdj(x, y, W)\n",
    "    W = W - learningRate * dj\n",
    "    costs[curRep] = curCost\n",
    "    curRep = curRep + 1"
   ]
  },
  {
   "cell_type": "code",
   "execution_count": 17,
   "metadata": {},
   "outputs": [
    {
     "name": "stdout",
     "output_type": "stream",
     "text": [
      "[[nan]\n",
      " [nan]\n",
      " [nan]\n",
      " [nan]\n",
      " [nan]\n",
      " [nan]\n",
      " [nan]\n",
      " [nan]\n",
      " [nan]\n",
      " [nan]\n",
      " [nan]\n",
      " [nan]]\n"
     ]
    }
   ],
   "source": [
    "print(W)"
   ]
  },
  {
   "cell_type": "code",
   "execution_count": 18,
   "metadata": {},
   "outputs": [
    {
     "name": "stdout",
     "output_type": "stream",
     "text": [
      "nan\n"
     ]
    }
   ],
   "source": [
    "print(cost(x, y, W))"
   ]
  },
  {
   "cell_type": "markdown",
   "metadata": {},
   "source": [
    "### Finding the Regression Parameters with Normalization"
   ]
  },
  {
   "cell_type": "code",
   "execution_count": 19,
   "metadata": {},
   "outputs": [],
   "source": [
    "def normalise(inp):\n",
    "    return numpy.array((inp-inp.mean())/inp.std())"
   ]
  },
  {
   "cell_type": "code",
   "execution_count": 20,
   "metadata": {},
   "outputs": [],
   "source": [
    "x = x[:, 1:]\n",
    "normx = normalise(x)\n",
    "normy = normalise(y)"
   ]
  },
  {
   "cell_type": "code",
   "execution_count": 21,
   "metadata": {},
   "outputs": [],
   "source": [
    "normx = numpy.c_[numpy.ones(normx.shape[0]),numpy.array(normx)]"
   ]
  },
  {
   "cell_type": "code",
   "execution_count": 22,
   "metadata": {},
   "outputs": [
    {
     "data": {
      "text/plain": [
       "array([[ 1.        ,  3.32566332, -0.28800578, -0.28924186, -0.28862382,\n",
       "        -0.28924186, -0.2898599 , -0.28924186, -0.2898599 , -0.2898599 ,\n",
       "        -0.28924186, -0.2898599 ],\n",
       "       [ 1.        ,  2.18229273, -0.28862382, -0.28924186, -0.28924186,\n",
       "        -0.28924186, -0.2898599 , -0.2898599 , -0.2898599 , -0.2898599 ,\n",
       "        -0.2898599 , -0.2898599 ],\n",
       "       [ 1.        ,  1.60133687, -0.28800578, -0.28924186, -0.28924186,\n",
       "        -0.28924186, -0.2898599 , -0.2898599 , -0.2898599 , -0.2898599 ,\n",
       "        -0.2898599 , -0.2898599 ],\n",
       "       [ 1.        ,  3.82009385, -0.28800578, -0.28924186, -0.28862382,\n",
       "        -0.28924186, -0.28924186, -0.2898599 , -0.2898599 , -0.2898599 ,\n",
       "        -0.2898599 , -0.2898599 ],\n",
       "       [ 1.        ,  3.64086278, -0.28862382, -0.28924186, -0.28924186,\n",
       "        -0.28924186, -0.2898599 , -0.2898599 , -0.2898599 , -0.2898599 ,\n",
       "        -0.2898599 , -0.2898599 ]])"
      ]
     },
     "execution_count": 22,
     "metadata": {},
     "output_type": "execute_result"
    }
   ],
   "source": [
    "normx[:5]"
   ]
  },
  {
   "cell_type": "markdown",
   "metadata": {},
   "source": [
    "#### Using normal Equation"
   ]
  },
  {
   "cell_type": "code",
   "execution_count": 23,
   "metadata": {},
   "outputs": [
    {
     "name": "stdout",
     "output_type": "stream",
     "text": [
      "[[1.37658095e+03]\n",
      " [2.15081916e-01]\n",
      " [1.11110315e+02]\n",
      " [8.69446180e+02]\n",
      " [3.97676252e+02]\n",
      " [4.05611325e+02]\n",
      " [2.73607675e+02]\n",
      " [3.30685115e+02]\n",
      " [7.78220072e+02]\n",
      " [7.66180033e+02]\n",
      " [2.57447260e+02]\n",
      " [5.68257433e+02]]\n"
     ]
    }
   ],
   "source": [
    "normxT = normx.transpose()\n",
    "normxinv = inv(numpy.matmul(normxT, normx))\n",
    "normxy = numpy.matmul(normxT, normy)\n",
    "normw = numpy.matmul(normxinv, normxy)\n",
    "print(normw)"
   ]
  },
  {
   "cell_type": "code",
   "execution_count": 24,
   "metadata": {},
   "outputs": [
    {
     "name": "stdout",
     "output_type": "stream",
     "text": [
      "0.16343818967927506\n"
     ]
    }
   ],
   "source": [
    "print(cost(normx, normy, normw))"
   ]
  },
  {
   "cell_type": "markdown",
   "metadata": {},
   "source": [
    "#### Using Gradient Descent Equation"
   ]
  },
  {
   "cell_type": "code",
   "execution_count": 25,
   "metadata": {},
   "outputs": [
    {
     "name": "stdout",
     "output_type": "stream",
     "text": [
      "[[ 0.64010161]\n",
      " [ 0.0269776 ]\n",
      " [-0.49672543]\n",
      " [ 0.94967282]\n",
      " [-0.97258437]\n",
      " [ 0.6023901 ]\n",
      " [ 0.44219133]\n",
      " [ 0.83299162]\n",
      " [ 1.57200112]\n",
      " [ 1.47095096]\n",
      " [ 1.03435952]\n",
      " [ 0.57137846]]\n"
     ]
    }
   ],
   "source": [
    "normW = numpy.random.randn(12, 1)\n",
    "normW = numpy.array(normW)\n",
    "print(normW)"
   ]
  },
  {
   "cell_type": "code",
   "execution_count": 26,
   "metadata": {},
   "outputs": [],
   "source": [
    "totalRep = 1000\n",
    "curRep= 0\n",
    "learningRate = 0.001\n",
    "costs = numpy.empty([totalRep])\n",
    "while curRep < totalRep:\n",
    "    curCost = cost(normx, normy, normW)\n",
    "    dj = calcdj(normx, normy, normW)\n",
    "    normW = normW - learningRate * dj\n",
    "    costs[curRep] = curCost\n",
    "    curRep = curRep + 1"
   ]
  },
  {
   "cell_type": "code",
   "execution_count": 27,
   "metadata": {},
   "outputs": [
    {
     "name": "stdout",
     "output_type": "stream",
     "text": [
      "[[ 0.7007058 ]\n",
      " [ 0.35093252]\n",
      " [-0.51404352]\n",
      " [ 0.93228888]\n",
      " [-0.98987642]\n",
      " [ 0.58489305]\n",
      " [ 0.42467735]\n",
      " [ 0.81548681]\n",
      " [ 1.55444858]\n",
      " [ 1.45349928]\n",
      " [ 1.01694257]\n",
      " [ 0.55388051]]\n"
     ]
    }
   ],
   "source": [
    "print(normW)"
   ]
  },
  {
   "cell_type": "code",
   "execution_count": 28,
   "metadata": {},
   "outputs": [
    {
     "data": {
      "text/plain": [
       "[<matplotlib.lines.Line2D at 0x7faf8ca27ba8>]"
      ]
     },
     "execution_count": 28,
     "metadata": {},
     "output_type": "execute_result"
    },
    {
     "data": {
      "image/png": "[encoded data removed]",
      "text/plain": [
       "<Figure size 432x288 with 1 Axes>"
      ]
     },
     "metadata": {},
     "output_type": "display_data"
    }
   ],
   "source": [
    "plt.plot(range(totalRep), costs)"
   ]
  },
  {
   "cell_type": "code",
   "execution_count": 29,
   "metadata": {},
   "outputs": [
    {
     "name": "stdout",
     "output_type": "stream",
     "text": [
      "0.35872062753284384\n"
     ]
    }
   ],
   "source": [
    "print(cost(normx, normy, normW))"
   ]
  }
 ],
 "metadata": {
  "kernelspec": {
   "display_name": "Python 3",
   "language": "python",
   "name": "python3"
  },
  "language_info": {
   "codemirror_mode": {
    "name": "ipython",
    "version": 3
   },
   "file_extension": ".py",
   "mimetype": "text/x-python",
   "name": "python",
   "nbconvert_exporter": "python",
   "pygments_lexer": "ipython3",
   "version": "3.6.7"
  }
 },
 "nbformat": 4,
 "nbformat_minor": 2
}
