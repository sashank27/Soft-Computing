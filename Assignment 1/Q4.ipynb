{
 "cells": [
  {
   "cell_type": "code",
   "execution_count": 5,
   "metadata": {},
   "outputs": [],
   "source": [
    "import numpy\n",
    "import matplotlib.pyplot as plt\n",
    "from numpy.linalg import inv"
   ]
  },
  {
   "cell_type": "code",
   "execution_count": 6,
   "metadata": {},
   "outputs": [],
   "source": [
    "# Input Data\n",
    "x = numpy.array([0, 1, 2, 3, 4, 5, 6])\n",
    "y = numpy.array([2.4, 2.1, 3.2, 5.6, 9.3, 14.6, 21.9])"
   ]
  },
  {
   "cell_type": "code",
   "execution_count": 14,
   "metadata": {},
   "outputs": [
    {
     "data": {
      "text/plain": [
       "<matplotlib.collections.PathCollection at 0x3b6b310>"
      ]
     },
     "execution_count": 14,
     "metadata": {},
     "output_type": "execute_result"
    },
    {
     "data": {
      "image/png": "[encoded data removed]",
      "text/plain": [
       "<Figure size 432x288 with 1 Axes>"
      ]
     },
     "metadata": {},
     "output_type": "display_data"
    }
   ],
   "source": [
    "plt.scatter(x, y, color = \"m\", marker = \"o\", s = 30)"
   ]
  },
  {
   "cell_type": "markdown",
   "metadata": {},
   "source": [
    "### Fitting a Least Square Parabola\n",
    "\n",
    "### The 3 equations are\n",
    "### m*w0 + a*w1 + b*w2 = c\n",
    "### a*w0 + b*w1 + d*w2 = e\n",
    "### b*w0 + d*w1 + f*w2 = g"
   ]
  },
  {
   "cell_type": "code",
   "execution_count": 7,
   "metadata": {},
   "outputs": [],
   "source": [
    "m = 7\n",
    "a = 0\n",
    "b = 0\n",
    "c = 0\n",
    "d = 0\n",
    "e = 0\n",
    "f = 0\n",
    "g = 0\n",
    "for xi in x:\n",
    "    a = a + xi\n",
    "    b = b + xi*xi\n",
    "    d = d + xi*xi*xi\n",
    "    f = f + xi*xi*xi*xi\n",
    "    \n",
    "for yi in y:\n",
    "    c = c + yi\n",
    "    \n",
    "for i in range(0, len(x)):\n",
    "    e = e + x[i]*y[i]\n",
    "    g = g + x[i]*x[i]*y[i]"
   ]
  },
  {
   "cell_type": "code",
   "execution_count": 8,
   "metadata": {},
   "outputs": [],
   "source": [
    "mat = numpy.array([[m, a, b], [a, b, d], [b, d, f]]);\n",
    "matinv = inv(mat)"
   ]
  },
  {
   "cell_type": "code",
   "execution_count": 11,
   "metadata": {},
   "outputs": [
    {
     "name": "stdout",
     "output_type": "stream",
     "text": [
      "[[ 2.50952381]\n",
      " [-1.2       ]\n",
      " [ 0.73333333]]\n"
     ]
    }
   ],
   "source": [
    "mat2 = numpy.array([[c], [e], [g]])\n",
    "out = numpy.matmul(matinv, mat2)\n",
    "print(out)"
   ]
  },
  {
   "cell_type": "code",
   "execution_count": 15,
   "metadata": {},
   "outputs": [
    {
     "data": {
      "image/png": "[encoded data removed]",
      "text/plain": [
       "<Figure size 432x288 with 1 Axes>"
      ]
     },
     "metadata": {},
     "output_type": "display_data"
    }
   ],
   "source": [
    "h = out[0] + out[1]*x + out[2]*x*x\n",
    "plt.scatter(x, y, color = \"m\", marker = \"o\", s = 30)\n",
    "plt.plot(x, h, color = \"g\")\n",
    "plt.grid(color=\"r\")\n",
    "plt.show()"
   ]
  }
 ],
 "metadata": {
  "kernelspec": {
   "display_name": "Python 3",
   "language": "python",
   "name": "python3"
  },
  "language_info": {
   "codemirror_mode": {
    "name": "ipython",
    "version": 3
   },
   "file_extension": ".py",
   "mimetype": "text/x-python",
   "name": "python",
   "nbconvert_exporter": "python",
   "pygments_lexer": "ipython3",
   "version": "3.6.5"
  }
 },
 "nbformat": 4,
 "nbformat_minor": 2
}
